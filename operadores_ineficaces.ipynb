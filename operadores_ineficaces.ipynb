{
 "cells": [
  {
   "cell_type": "markdown",
   "id": "4d1c20a1",
   "metadata": {},
   "source": [
    "# Contenido <a id='back'></a>\n",
    "\n",
    "* [Introducción](#intro)\n",
    "* [Etapa 1. Inicialización](#inicializacion) \n",
    "* [Etapa 2. Cargar los datos](#cargar)\n",
    "* [Etapa 3. Preparar los datos](#preparar)\n",
    "    * [Calls](#calls)\n",
    "      * [Conclusiones y siguientes pasos](#conclu_calls)\n",
    "      * [Corregir datos](#corregir_calls)\n",
    "    * [Clients](#clients)\n",
    "      * [Corregir datos](#corregir_clients)\n",
    "* [Etapa 4. Análisis exploratorio de datos](#analisis)\n",
    "* [Etapa 5. Estudiar el comportamiento de los operadores](#estudiar)\n",
    "* [Etapa 6. Identificar operadores ineficientes ](#identificar)\n",
    "    * [Conclusiones](conclu_ineficientes)\n",
    "* [Probar hipótesis estadísticas](#hipotesis)\n",
    "* [Conclusión general](#general)\n",
    "* [Enlaces presentación, dashboard y documentación](#enlaces)"
   ]
  },
  {
   "cell_type": "markdown",
   "id": "1027a956",
   "metadata": {},
   "source": [
    "# Identificar operadores ineficaces <a id='intro'></a>\n",
    "\n",
    "El servicio de telefonía virtual CallMeMaybe está desarrollando una nueva función que brindará a los supervisores y las supervisores información sobre los operadores menos eficaces. Se considera que un operador es ineficaz si tiene una gran cantidad de llamadas entrantes perdidas (internas y externas) y un tiempo de espera prolongado para las llamadas entrantes. Además, si se supone que un operador debe realizar llamadas salientes, un número reducido de ellas también será un signo de ineficacia."
   ]
  },
  {
   "cell_type": "markdown",
   "id": "41976f1e",
   "metadata": {},
   "source": [
    "Se requiere identificar a los operadores ineficientes que trabajan en el servicio de telefonía CallMeMaybe porque están desarrollando una nueva función que brindará dicha información a los supervisores y supervisoras de la compañía y así mejorar el servicio a los clientes, estos clientes son organizaciones que necesitan distribuir gran cantidad de llamadas entrantes entre varios operadores, realizar llamadas salientes a través de sus operadores o internas para comunicarse entre ellos. \n",
    "Se van a tratar los valores ausentes, verificar duplicados, corregir los tipos de datos, hacer comprobaciones con los datos limpios, estudiar comportamientos de los operadores, probar algunas hipótesis para luego determinar las conclusiones del estudio."
   ]
  },
  {
   "cell_type": "markdown",
   "id": "47b3d6d2",
   "metadata": {},
   "source": [
    "## Inicialización <a id='inicializacion'></a>"
   ]
  },
  {
   "cell_type": "code",
   "execution_count": 1,
   "id": "9f1dd07b",
   "metadata": {},
   "outputs": [],
   "source": [
    "# Cargar todas las librerías\n",
    "\n",
    "import pandas as pd\n",
    "import matplotlib.pyplot as plt\n",
    "import seaborn as sns\n",
    "import numpy as np\n",
    "import scipy.stats as stats"
   ]
  },
  {
   "cell_type": "markdown",
   "id": "a0cf7186",
   "metadata": {},
   "source": [
    "## Cargar los datos <a id='cargar'></a>"
   ]
  },
  {
   "cell_type": "code",
   "execution_count": 2,
   "id": "e6f14b9d",
   "metadata": {},
   "outputs": [],
   "source": [
    "# Carga del archivo de datos DataFrame\n",
    "\n",
    "try:\n",
    "    calls= pd.read_csv(r\"C:\\Users\\yanim\\Downloads\\telecom_dataset_us.csv\")\n",
    "    clients= pd.read_csv(r\"C:\\Users\\yanim\\Downloads\\telecom_clients_us.csv\")\n",
    "except:\n",
    "    calls= pd.read_csv(\"/datasets/telecom_dataset_us.csv\")\n",
    "    clients= pd.read_csv(\"/datasets/telecom_clients_us.csv\")"
   ]
  },
  {
   "cell_type": "markdown",
   "id": "b39e60be",
   "metadata": {},
   "source": [
    "## Preparar los datos <a id='preparar'></a>"
   ]
  },
  {
   "cell_type": "markdown",
   "id": "de4d3a8e",
   "metadata": {},
   "source": [
    "### Calls <a id='calls'></a>"
   ]
  },
  {
   "cell_type": "code",
   "execution_count": 3,
   "id": "64008486",
   "metadata": {},
   "outputs": [
    {
     "name": "stdout",
     "output_type": "stream",
     "text": [
      "<class 'pandas.core.frame.DataFrame'>\n",
      "RangeIndex: 53902 entries, 0 to 53901\n",
      "Data columns (total 9 columns):\n",
      " #   Column               Non-Null Count  Dtype  \n",
      "---  ------               --------------  -----  \n",
      " 0   user_id              53902 non-null  int64  \n",
      " 1   date                 53902 non-null  object \n",
      " 2   direction            53902 non-null  object \n",
      " 3   internal             53785 non-null  object \n",
      " 4   operator_id          45730 non-null  float64\n",
      " 5   is_missed_call       53902 non-null  bool   \n",
      " 6   calls_count          53902 non-null  int64  \n",
      " 7   call_duration        53902 non-null  int64  \n",
      " 8   total_call_duration  53902 non-null  int64  \n",
      "dtypes: bool(1), float64(1), int64(4), object(3)\n",
      "memory usage: 3.3+ MB\n"
     ]
    }
   ],
   "source": [
    "# información general/resumen sobre el DataFrame Calls\n",
    "calls.info()"
   ]
  },
  {
   "cell_type": "code",
   "execution_count": 4,
   "id": "5d1ae8d5",
   "metadata": {},
   "outputs": [
    {
     "data": {
      "text/html": [
       "<div>\n",
       "<style scoped>\n",
       "    .dataframe tbody tr th:only-of-type {\n",
       "        vertical-align: middle;\n",
       "    }\n",
       "\n",
       "    .dataframe tbody tr th {\n",
       "        vertical-align: top;\n",
       "    }\n",
       "\n",
       "    .dataframe thead th {\n",
       "        text-align: right;\n",
       "    }\n",
       "</style>\n",
       "<table border=\"1\" class=\"dataframe\">\n",
       "  <thead>\n",
       "    <tr style=\"text-align: right;\">\n",
       "      <th></th>\n",
       "      <th>user_id</th>\n",
       "      <th>date</th>\n",
       "      <th>direction</th>\n",
       "      <th>internal</th>\n",
       "      <th>operator_id</th>\n",
       "      <th>is_missed_call</th>\n",
       "      <th>calls_count</th>\n",
       "      <th>call_duration</th>\n",
       "      <th>total_call_duration</th>\n",
       "    </tr>\n",
       "  </thead>\n",
       "  <tbody>\n",
       "    <tr>\n",
       "      <th>0</th>\n",
       "      <td>166377</td>\n",
       "      <td>2019-08-04 00:00:00+03:00</td>\n",
       "      <td>in</td>\n",
       "      <td>False</td>\n",
       "      <td>NaN</td>\n",
       "      <td>True</td>\n",
       "      <td>2</td>\n",
       "      <td>0</td>\n",
       "      <td>4</td>\n",
       "    </tr>\n",
       "    <tr>\n",
       "      <th>1</th>\n",
       "      <td>166377</td>\n",
       "      <td>2019-08-05 00:00:00+03:00</td>\n",
       "      <td>out</td>\n",
       "      <td>True</td>\n",
       "      <td>880022.0</td>\n",
       "      <td>True</td>\n",
       "      <td>3</td>\n",
       "      <td>0</td>\n",
       "      <td>5</td>\n",
       "    </tr>\n",
       "    <tr>\n",
       "      <th>2</th>\n",
       "      <td>166377</td>\n",
       "      <td>2019-08-05 00:00:00+03:00</td>\n",
       "      <td>out</td>\n",
       "      <td>True</td>\n",
       "      <td>880020.0</td>\n",
       "      <td>True</td>\n",
       "      <td>1</td>\n",
       "      <td>0</td>\n",
       "      <td>1</td>\n",
       "    </tr>\n",
       "    <tr>\n",
       "      <th>3</th>\n",
       "      <td>166377</td>\n",
       "      <td>2019-08-05 00:00:00+03:00</td>\n",
       "      <td>out</td>\n",
       "      <td>True</td>\n",
       "      <td>880020.0</td>\n",
       "      <td>False</td>\n",
       "      <td>1</td>\n",
       "      <td>10</td>\n",
       "      <td>18</td>\n",
       "    </tr>\n",
       "    <tr>\n",
       "      <th>4</th>\n",
       "      <td>166377</td>\n",
       "      <td>2019-08-05 00:00:00+03:00</td>\n",
       "      <td>out</td>\n",
       "      <td>False</td>\n",
       "      <td>880022.0</td>\n",
       "      <td>True</td>\n",
       "      <td>3</td>\n",
       "      <td>0</td>\n",
       "      <td>25</td>\n",
       "    </tr>\n",
       "  </tbody>\n",
       "</table>\n",
       "</div>"
      ],
      "text/plain": [
       "   user_id                       date direction internal  operator_id  \\\n",
       "0   166377  2019-08-04 00:00:00+03:00        in    False          NaN   \n",
       "1   166377  2019-08-05 00:00:00+03:00       out     True     880022.0   \n",
       "2   166377  2019-08-05 00:00:00+03:00       out     True     880020.0   \n",
       "3   166377  2019-08-05 00:00:00+03:00       out     True     880020.0   \n",
       "4   166377  2019-08-05 00:00:00+03:00       out    False     880022.0   \n",
       "\n",
       "   is_missed_call  calls_count  call_duration  total_call_duration  \n",
       "0            True            2              0                    4  \n",
       "1            True            3              0                    5  \n",
       "2            True            1              0                    1  \n",
       "3           False            1             10                   18  \n",
       "4            True            3              0                   25  "
      ]
     },
     "execution_count": 4,
     "metadata": {},
     "output_type": "execute_result"
    }
   ],
   "source": [
    "# Muestra de los datos de calls\n",
    "\n",
    "calls.head()"
   ]
  },
  {
   "cell_type": "code",
   "execution_count": 5,
   "id": "c522e675",
   "metadata": {},
   "outputs": [
    {
     "data": {
      "text/plain": [
       "user_id                   0\n",
       "date                      0\n",
       "direction                 0\n",
       "internal                117\n",
       "operator_id            8172\n",
       "is_missed_call            0\n",
       "calls_count               0\n",
       "call_duration             0\n",
       "total_call_duration       0\n",
       "dtype: int64"
      ]
     },
     "execution_count": 5,
     "metadata": {},
     "output_type": "execute_result"
    }
   ],
   "source": [
    "# estudiar valores ausentes\n",
    "calls.isnull().sum()"
   ]
  },
  {
   "cell_type": "code",
   "execution_count": 6,
   "id": "9586e5e3",
   "metadata": {},
   "outputs": [
    {
     "name": "stdout",
     "output_type": "stream",
     "text": [
      "4900\n"
     ]
    }
   ],
   "source": [
    "# Comprobar si hay duplicados\n",
    "\n",
    "print(calls.duplicated().sum())\n",
    "duplicated_calls= calls[calls.duplicated()]"
   ]
  },
  {
   "cell_type": "code",
   "execution_count": 7,
   "id": "76d99182",
   "metadata": {},
   "outputs": [
    {
     "name": "stdout",
     "output_type": "stream",
     "text": [
      "2019-08-02 00:00:00+03:00\n",
      "2019-11-28 00:00:00+03:00\n"
     ]
    }
   ],
   "source": [
    "# Verificar máximo y mínimo de date\n",
    "\n",
    "print(calls['date'].min())\n",
    "print(calls['date'].max())"
   ]
  },
  {
   "cell_type": "code",
   "execution_count": 8,
   "id": "3ac759f1",
   "metadata": {},
   "outputs": [
    {
     "data": {
      "text/plain": [
       "out    31917\n",
       "in     21985\n",
       "Name: direction, dtype: int64"
      ]
     },
     "execution_count": 8,
     "metadata": {},
     "output_type": "execute_result"
    }
   ],
   "source": [
    "# Verificar distribución de direction\n",
    "\n",
    "calls['direction'].value_counts()"
   ]
  },
  {
   "cell_type": "code",
   "execution_count": 9,
   "id": "aba50651",
   "metadata": {},
   "outputs": [
    {
     "data": {
      "text/plain": [
       "False    47621\n",
       "True      6164\n",
       "Name: internal, dtype: int64"
      ]
     },
     "execution_count": 9,
     "metadata": {},
     "output_type": "execute_result"
    }
   ],
   "source": [
    "# Verificar distribución de internal\n",
    "\n",
    "calls['internal'].value_counts()"
   ]
  },
  {
   "cell_type": "code",
   "execution_count": 10,
   "id": "4187a6c1",
   "metadata": {},
   "outputs": [
    {
     "data": {
      "text/plain": [
       "False    30334\n",
       "True     23568\n",
       "Name: is_missed_call, dtype: int64"
      ]
     },
     "execution_count": 10,
     "metadata": {},
     "output_type": "execute_result"
    }
   ],
   "source": [
    "# Verificar distribución de is_missed_call\n",
    "\n",
    "calls['is_missed_call'].value_counts()"
   ]
  },
  {
   "cell_type": "markdown",
   "id": "6c35593d",
   "metadata": {},
   "source": [
    "El dataset **calls** contiene los siguientes campos:\n",
    "\n",
    "- `user_id` — ID de la cuenta de cliente.\n",
    "- `date` — fecha en la que se recuperaron las estadísticas.        \n",
    "- `direction`  — \"dirección\" de llamada (out para saliente, in para entrante).  \n",
    "- `internal` — si la llamada fue interna (entre los operadores de un cliente o clienta).     \n",
    "- `operator_id` — identificador del operador.\n",
    "- `is_missed_call` — si fue una llamada perdida.  \n",
    "- `calls_count` — número de llamadas.  \n",
    "- `call_duration`  — duración de la llamada (sin incluir el tiempo de espera).  \n",
    "- `total_call_duration` — duración de la llamada (incluido el tiempo de espera).\n",
    "\n",
    "\n",
    "- Tenemos un conjunto de datos conformado por 9 columnas y 53902 filas.\n",
    "- Se necesita ajustar el tipo de dato de las columnas date y operador_id.\n",
    "- Se encontraron valores ausentes en las columnas operador_id y internal.\n",
    "- A priori se encontraron 4900 filas duplicadas.\n",
    "- Se determinó que el conjunto de datos comprende el período desde 2019-08-02 hasta el 2019-11-28.\n",
    "- La columna direction está conformada por los valores out 31917 registros y in 21985.\n",
    "- La columna internal está conformada por valores booleanos False contiene 47621 registros y True 6164.\n",
    "- La columna is_missed_call está conformada por valores booleanos False 30334 registros y True 23568.\n"
   ]
  },
  {
   "cell_type": "markdown",
   "id": "4bda890e",
   "metadata": {},
   "source": [
    "#### Conclusiones y siguientes pasos <a id='conclu_calls'></a>"
   ]
  },
  {
   "cell_type": "markdown",
   "id": "74503601",
   "metadata": {},
   "source": [
    "- Se procede a ajustar los tipos de datos de las columnas date y operador_id, verificar los valores duplicados para determinar que hacer con ellos, los valores ausentes de la columna operator_id se van a eliminar ya que no hay manera de saber a que operador pertenece la llamada y reemplazar por algún otro valor podría afectar el estudio, mientras que los valores ausentes de la columna internal no se visualiza ningún patrón así que serán reemplazados por no 'disponible'."
   ]
  },
  {
   "cell_type": "markdown",
   "id": "d449b59b",
   "metadata": {},
   "source": [
    "#### Corregir datos<a id='corregir_calls'></a>"
   ]
  },
  {
   "cell_type": "code",
   "execution_count": 11,
   "id": "1314469f",
   "metadata": {},
   "outputs": [
    {
     "data": {
      "text/html": [
       "<div>\n",
       "<style scoped>\n",
       "    .dataframe tbody tr th:only-of-type {\n",
       "        vertical-align: middle;\n",
       "    }\n",
       "\n",
       "    .dataframe tbody tr th {\n",
       "        vertical-align: top;\n",
       "    }\n",
       "\n",
       "    .dataframe thead th {\n",
       "        text-align: right;\n",
       "    }\n",
       "</style>\n",
       "<table border=\"1\" class=\"dataframe\">\n",
       "  <thead>\n",
       "    <tr style=\"text-align: right;\">\n",
       "      <th></th>\n",
       "      <th>user_id</th>\n",
       "      <th>date</th>\n",
       "      <th>direction</th>\n",
       "      <th>internal</th>\n",
       "      <th>operator_id</th>\n",
       "      <th>is_missed_call</th>\n",
       "      <th>calls_count</th>\n",
       "      <th>call_duration</th>\n",
       "      <th>total_call_duration</th>\n",
       "    </tr>\n",
       "  </thead>\n",
       "  <tbody>\n",
       "    <tr>\n",
       "      <th>8</th>\n",
       "      <td>166377</td>\n",
       "      <td>2019-08-05 00:00:00+03:00</td>\n",
       "      <td>out</td>\n",
       "      <td>False</td>\n",
       "      <td>880020.0</td>\n",
       "      <td>True</td>\n",
       "      <td>8</td>\n",
       "      <td>0</td>\n",
       "      <td>50</td>\n",
       "    </tr>\n",
       "    <tr>\n",
       "      <th>28</th>\n",
       "      <td>166377</td>\n",
       "      <td>2019-08-12 00:00:00+03:00</td>\n",
       "      <td>in</td>\n",
       "      <td>False</td>\n",
       "      <td>NaN</td>\n",
       "      <td>True</td>\n",
       "      <td>2</td>\n",
       "      <td>0</td>\n",
       "      <td>34</td>\n",
       "    </tr>\n",
       "    <tr>\n",
       "      <th>45</th>\n",
       "      <td>166377</td>\n",
       "      <td>2019-08-14 00:00:00+03:00</td>\n",
       "      <td>in</td>\n",
       "      <td>False</td>\n",
       "      <td>NaN</td>\n",
       "      <td>True</td>\n",
       "      <td>1</td>\n",
       "      <td>0</td>\n",
       "      <td>3</td>\n",
       "    </tr>\n",
       "    <tr>\n",
       "      <th>44</th>\n",
       "      <td>166377</td>\n",
       "      <td>2019-08-14 00:00:00+03:00</td>\n",
       "      <td>out</td>\n",
       "      <td>False</td>\n",
       "      <td>880026.0</td>\n",
       "      <td>False</td>\n",
       "      <td>10</td>\n",
       "      <td>1567</td>\n",
       "      <td>1654</td>\n",
       "    </tr>\n",
       "    <tr>\n",
       "      <th>51</th>\n",
       "      <td>166377</td>\n",
       "      <td>2019-08-15 00:00:00+03:00</td>\n",
       "      <td>out</td>\n",
       "      <td>False</td>\n",
       "      <td>880026.0</td>\n",
       "      <td>False</td>\n",
       "      <td>11</td>\n",
       "      <td>1413</td>\n",
       "      <td>1473</td>\n",
       "    </tr>\n",
       "    <tr>\n",
       "      <th>62</th>\n",
       "      <td>166377</td>\n",
       "      <td>2019-08-19 00:00:00+03:00</td>\n",
       "      <td>out</td>\n",
       "      <td>False</td>\n",
       "      <td>880026.0</td>\n",
       "      <td>False</td>\n",
       "      <td>14</td>\n",
       "      <td>1519</td>\n",
       "      <td>1598</td>\n",
       "    </tr>\n",
       "    <tr>\n",
       "      <th>78</th>\n",
       "      <td>166377</td>\n",
       "      <td>2019-08-22 00:00:00+03:00</td>\n",
       "      <td>out</td>\n",
       "      <td>False</td>\n",
       "      <td>880026.0</td>\n",
       "      <td>True</td>\n",
       "      <td>6</td>\n",
       "      <td>0</td>\n",
       "      <td>55</td>\n",
       "    </tr>\n",
       "    <tr>\n",
       "      <th>87</th>\n",
       "      <td>166377</td>\n",
       "      <td>2019-08-23 00:00:00+03:00</td>\n",
       "      <td>in</td>\n",
       "      <td>False</td>\n",
       "      <td>880026.0</td>\n",
       "      <td>False</td>\n",
       "      <td>1</td>\n",
       "      <td>45</td>\n",
       "      <td>52</td>\n",
       "    </tr>\n",
       "    <tr>\n",
       "      <th>86</th>\n",
       "      <td>166377</td>\n",
       "      <td>2019-08-23 00:00:00+03:00</td>\n",
       "      <td>out</td>\n",
       "      <td>False</td>\n",
       "      <td>880026.0</td>\n",
       "      <td>False</td>\n",
       "      <td>43</td>\n",
       "      <td>3435</td>\n",
       "      <td>3654</td>\n",
       "    </tr>\n",
       "    <tr>\n",
       "      <th>100</th>\n",
       "      <td>166377</td>\n",
       "      <td>2019-08-27 00:00:00+03:00</td>\n",
       "      <td>out</td>\n",
       "      <td>False</td>\n",
       "      <td>880028.0</td>\n",
       "      <td>False</td>\n",
       "      <td>20</td>\n",
       "      <td>2784</td>\n",
       "      <td>2979</td>\n",
       "    </tr>\n",
       "  </tbody>\n",
       "</table>\n",
       "</div>"
      ],
      "text/plain": [
       "     user_id                       date direction internal  operator_id  \\\n",
       "8     166377  2019-08-05 00:00:00+03:00       out    False     880020.0   \n",
       "28    166377  2019-08-12 00:00:00+03:00        in    False          NaN   \n",
       "45    166377  2019-08-14 00:00:00+03:00        in    False          NaN   \n",
       "44    166377  2019-08-14 00:00:00+03:00       out    False     880026.0   \n",
       "51    166377  2019-08-15 00:00:00+03:00       out    False     880026.0   \n",
       "62    166377  2019-08-19 00:00:00+03:00       out    False     880026.0   \n",
       "78    166377  2019-08-22 00:00:00+03:00       out    False     880026.0   \n",
       "87    166377  2019-08-23 00:00:00+03:00        in    False     880026.0   \n",
       "86    166377  2019-08-23 00:00:00+03:00       out    False     880026.0   \n",
       "100   166377  2019-08-27 00:00:00+03:00       out    False     880028.0   \n",
       "\n",
       "     is_missed_call  calls_count  call_duration  total_call_duration  \n",
       "8              True            8              0                   50  \n",
       "28             True            2              0                   34  \n",
       "45             True            1              0                    3  \n",
       "44            False           10           1567                 1654  \n",
       "51            False           11           1413                 1473  \n",
       "62            False           14           1519                 1598  \n",
       "78             True            6              0                   55  \n",
       "87            False            1             45                   52  \n",
       "86            False           43           3435                 3654  \n",
       "100           False           20           2784                 2979  "
      ]
     },
     "execution_count": 11,
     "metadata": {},
     "output_type": "execute_result"
    }
   ],
   "source": [
    "# verificar duplicados\n",
    "\n",
    "duplicated_data= calls[calls.duplicated(keep=False)]\n",
    "duplicated_data = duplicated_calls.sort_values(by=['user_id', 'date', 'direction', 'internal','operator_id','is_missed_call','calls_count','call_duration','total_call_duration'])\n",
    "duplicated_data.head(10)"
   ]
  },
  {
   "cell_type": "markdown",
   "id": "bbea30cc",
   "metadata": {},
   "source": [
    "- Se comprueba que en realidad los datos no son duplicados ya que los valores de la columna date no son iguales, por lo que no es necesario eliminarlos."
   ]
  },
  {
   "cell_type": "code",
   "execution_count": 12,
   "id": "0003f71c",
   "metadata": {},
   "outputs": [],
   "source": [
    "# Reemplazar valores ausentes en 'internal'\n",
    "calls.fillna({'internal': 'No disponible'}, inplace=True)\n"
   ]
  },
  {
   "cell_type": "code",
   "execution_count": 13,
   "id": "31ac22d6",
   "metadata": {},
   "outputs": [],
   "source": [
    "# Eliminar valores ausentes en la columna operador_id\n",
    "\n",
    "calls= calls.dropna()"
   ]
  },
  {
   "cell_type": "code",
   "execution_count": 14,
   "id": "ca826b8c",
   "metadata": {},
   "outputs": [
    {
     "data": {
      "text/plain": [
       "user_id                0\n",
       "date                   0\n",
       "direction              0\n",
       "internal               0\n",
       "operator_id            0\n",
       "is_missed_call         0\n",
       "calls_count            0\n",
       "call_duration          0\n",
       "total_call_duration    0\n",
       "dtype: int64"
      ]
     },
     "execution_count": 14,
     "metadata": {},
     "output_type": "execute_result"
    }
   ],
   "source": [
    "# verificar los valores ausentes\n",
    "calls.isnull().sum()"
   ]
  },
  {
   "cell_type": "code",
   "execution_count": 15,
   "id": "ba2b52c9",
   "metadata": {},
   "outputs": [],
   "source": [
    "# cambiar tipos de datos \n",
    "calls['date'] = pd.to_datetime(calls['date'])\n",
    "calls['operator_id'] = calls['operator_id'].astype('int')"
   ]
  },
  {
   "cell_type": "code",
   "execution_count": 16,
   "id": "e2df37f3",
   "metadata": {},
   "outputs": [
    {
     "name": "stdout",
     "output_type": "stream",
     "text": [
      "<class 'pandas.core.frame.DataFrame'>\n",
      "Int64Index: 45730 entries, 1 to 53900\n",
      "Data columns (total 9 columns):\n",
      " #   Column               Non-Null Count  Dtype                                \n",
      "---  ------               --------------  -----                                \n",
      " 0   user_id              45730 non-null  int64                                \n",
      " 1   date                 45730 non-null  datetime64[ns, pytz.FixedOffset(180)]\n",
      " 2   direction            45730 non-null  object                               \n",
      " 3   internal             45730 non-null  object                               \n",
      " 4   operator_id          45730 non-null  int64                                \n",
      " 5   is_missed_call       45730 non-null  bool                                 \n",
      " 6   calls_count          45730 non-null  int64                                \n",
      " 7   call_duration        45730 non-null  int64                                \n",
      " 8   total_call_duration  45730 non-null  int64                                \n",
      "dtypes: bool(1), datetime64[ns, pytz.FixedOffset(180)](1), int64(5), object(2)\n",
      "memory usage: 3.2+ MB\n"
     ]
    }
   ],
   "source": [
    "# información general/resumen sobre el DataFrame Calls\n",
    "calls.info()"
   ]
  },
  {
   "cell_type": "code",
   "execution_count": 17,
   "id": "d4f9b4d4",
   "metadata": {},
   "outputs": [
    {
     "data": {
      "text/html": [
       "<div>\n",
       "<style scoped>\n",
       "    .dataframe tbody tr th:only-of-type {\n",
       "        vertical-align: middle;\n",
       "    }\n",
       "\n",
       "    .dataframe tbody tr th {\n",
       "        vertical-align: top;\n",
       "    }\n",
       "\n",
       "    .dataframe thead th {\n",
       "        text-align: right;\n",
       "    }\n",
       "</style>\n",
       "<table border=\"1\" class=\"dataframe\">\n",
       "  <thead>\n",
       "    <tr style=\"text-align: right;\">\n",
       "      <th></th>\n",
       "      <th>user_id</th>\n",
       "      <th>date</th>\n",
       "      <th>direction</th>\n",
       "      <th>internal</th>\n",
       "      <th>operator_id</th>\n",
       "      <th>is_missed_call</th>\n",
       "      <th>calls_count</th>\n",
       "      <th>call_duration</th>\n",
       "      <th>total_call_duration</th>\n",
       "    </tr>\n",
       "  </thead>\n",
       "  <tbody>\n",
       "    <tr>\n",
       "      <th>1</th>\n",
       "      <td>166377</td>\n",
       "      <td>2019-08-05 00:00:00+03:00</td>\n",
       "      <td>out</td>\n",
       "      <td>True</td>\n",
       "      <td>880022</td>\n",
       "      <td>True</td>\n",
       "      <td>3</td>\n",
       "      <td>0</td>\n",
       "      <td>5</td>\n",
       "    </tr>\n",
       "    <tr>\n",
       "      <th>2</th>\n",
       "      <td>166377</td>\n",
       "      <td>2019-08-05 00:00:00+03:00</td>\n",
       "      <td>out</td>\n",
       "      <td>True</td>\n",
       "      <td>880020</td>\n",
       "      <td>True</td>\n",
       "      <td>1</td>\n",
       "      <td>0</td>\n",
       "      <td>1</td>\n",
       "    </tr>\n",
       "    <tr>\n",
       "      <th>3</th>\n",
       "      <td>166377</td>\n",
       "      <td>2019-08-05 00:00:00+03:00</td>\n",
       "      <td>out</td>\n",
       "      <td>True</td>\n",
       "      <td>880020</td>\n",
       "      <td>False</td>\n",
       "      <td>1</td>\n",
       "      <td>10</td>\n",
       "      <td>18</td>\n",
       "    </tr>\n",
       "    <tr>\n",
       "      <th>4</th>\n",
       "      <td>166377</td>\n",
       "      <td>2019-08-05 00:00:00+03:00</td>\n",
       "      <td>out</td>\n",
       "      <td>False</td>\n",
       "      <td>880022</td>\n",
       "      <td>True</td>\n",
       "      <td>3</td>\n",
       "      <td>0</td>\n",
       "      <td>25</td>\n",
       "    </tr>\n",
       "    <tr>\n",
       "      <th>5</th>\n",
       "      <td>166377</td>\n",
       "      <td>2019-08-05 00:00:00+03:00</td>\n",
       "      <td>out</td>\n",
       "      <td>False</td>\n",
       "      <td>880020</td>\n",
       "      <td>False</td>\n",
       "      <td>2</td>\n",
       "      <td>3</td>\n",
       "      <td>29</td>\n",
       "    </tr>\n",
       "  </tbody>\n",
       "</table>\n",
       "</div>"
      ],
      "text/plain": [
       "   user_id                      date direction internal  operator_id  \\\n",
       "1   166377 2019-08-05 00:00:00+03:00       out     True       880022   \n",
       "2   166377 2019-08-05 00:00:00+03:00       out     True       880020   \n",
       "3   166377 2019-08-05 00:00:00+03:00       out     True       880020   \n",
       "4   166377 2019-08-05 00:00:00+03:00       out    False       880022   \n",
       "5   166377 2019-08-05 00:00:00+03:00       out    False       880020   \n",
       "\n",
       "   is_missed_call  calls_count  call_duration  total_call_duration  \n",
       "1            True            3              0                    5  \n",
       "2            True            1              0                    1  \n",
       "3           False            1             10                   18  \n",
       "4            True            3              0                   25  \n",
       "5           False            2              3                   29  "
      ]
     },
     "execution_count": 17,
     "metadata": {},
     "output_type": "execute_result"
    }
   ],
   "source": [
    "# Muestra de los datos de calls\n",
    "\n",
    "calls.head()"
   ]
  },
  {
   "cell_type": "code",
   "execution_count": 18,
   "id": "f51631ae",
   "metadata": {},
   "outputs": [
    {
     "name": "stdout",
     "output_type": "stream",
     "text": [
      "Existen registros de llamadas perdidas con duración diferente de 0:\n",
      "user_id                325\n",
      "date                   325\n",
      "direction              325\n",
      "internal               325\n",
      "operator_id            325\n",
      "is_missed_call         325\n",
      "calls_count            325\n",
      "call_duration          325\n",
      "total_call_duration    325\n",
      "dtype: int64\n"
     ]
    }
   ],
   "source": [
    "# Verificar si hay llamadas perdidas con duración diferente de 0 \n",
    "\n",
    "verificar_perdidas = calls[(calls['is_missed_call'] == True) & (calls['call_duration'] != 0)]\n",
    "\n",
    "if not verificar_perdidas.empty:\n",
    "    print('Existen registros de llamadas perdidas con duración diferente de 0:')\n",
    "    print(verificar_perdidas.count())\n",
    "else:\n",
    "    print('No hay registros de llamadas perdidas con duración diferente de 0.')\n"
   ]
  },
  {
   "cell_type": "code",
   "execution_count": 19,
   "id": "0e32a968",
   "metadata": {},
   "outputs": [
    {
     "data": {
      "text/html": [
       "<div>\n",
       "<style scoped>\n",
       "    .dataframe tbody tr th:only-of-type {\n",
       "        vertical-align: middle;\n",
       "    }\n",
       "\n",
       "    .dataframe tbody tr th {\n",
       "        vertical-align: top;\n",
       "    }\n",
       "\n",
       "    .dataframe thead th {\n",
       "        text-align: right;\n",
       "    }\n",
       "</style>\n",
       "<table border=\"1\" class=\"dataframe\">\n",
       "  <thead>\n",
       "    <tr style=\"text-align: right;\">\n",
       "      <th></th>\n",
       "      <th>user_id</th>\n",
       "      <th>date</th>\n",
       "      <th>direction</th>\n",
       "      <th>internal</th>\n",
       "      <th>operator_id</th>\n",
       "      <th>is_missed_call</th>\n",
       "      <th>calls_count</th>\n",
       "      <th>call_duration</th>\n",
       "      <th>total_call_duration</th>\n",
       "    </tr>\n",
       "  </thead>\n",
       "  <tbody>\n",
       "    <tr>\n",
       "      <th>1606</th>\n",
       "      <td>166405</td>\n",
       "      <td>2019-11-19 00:00:00+03:00</td>\n",
       "      <td>in</td>\n",
       "      <td>False</td>\n",
       "      <td>939478</td>\n",
       "      <td>True</td>\n",
       "      <td>1</td>\n",
       "      <td>165</td>\n",
       "      <td>173</td>\n",
       "    </tr>\n",
       "    <tr>\n",
       "      <th>1635</th>\n",
       "      <td>166405</td>\n",
       "      <td>2019-11-21 00:00:00+03:00</td>\n",
       "      <td>in</td>\n",
       "      <td>False</td>\n",
       "      <td>882686</td>\n",
       "      <td>True</td>\n",
       "      <td>1</td>\n",
       "      <td>1</td>\n",
       "      <td>5</td>\n",
       "    </tr>\n",
       "    <tr>\n",
       "      <th>1657</th>\n",
       "      <td>166405</td>\n",
       "      <td>2019-11-22 00:00:00+03:00</td>\n",
       "      <td>in</td>\n",
       "      <td>False</td>\n",
       "      <td>882686</td>\n",
       "      <td>True</td>\n",
       "      <td>1</td>\n",
       "      <td>1</td>\n",
       "      <td>5</td>\n",
       "    </tr>\n",
       "    <tr>\n",
       "      <th>2283</th>\n",
       "      <td>166407</td>\n",
       "      <td>2019-09-23 00:00:00+03:00</td>\n",
       "      <td>in</td>\n",
       "      <td>False</td>\n",
       "      <td>888534</td>\n",
       "      <td>True</td>\n",
       "      <td>1</td>\n",
       "      <td>133</td>\n",
       "      <td>156</td>\n",
       "    </tr>\n",
       "    <tr>\n",
       "      <th>2869</th>\n",
       "      <td>166482</td>\n",
       "      <td>2019-11-05 00:00:00+03:00</td>\n",
       "      <td>in</td>\n",
       "      <td>False</td>\n",
       "      <td>934074</td>\n",
       "      <td>True</td>\n",
       "      <td>1</td>\n",
       "      <td>1</td>\n",
       "      <td>15</td>\n",
       "    </tr>\n",
       "    <tr>\n",
       "      <th>2956</th>\n",
       "      <td>166485</td>\n",
       "      <td>2019-09-09 00:00:00+03:00</td>\n",
       "      <td>in</td>\n",
       "      <td>False</td>\n",
       "      <td>887276</td>\n",
       "      <td>True</td>\n",
       "      <td>1</td>\n",
       "      <td>31</td>\n",
       "      <td>44</td>\n",
       "    </tr>\n",
       "    <tr>\n",
       "      <th>3376</th>\n",
       "      <td>166485</td>\n",
       "      <td>2019-10-31 00:00:00+03:00</td>\n",
       "      <td>in</td>\n",
       "      <td>False</td>\n",
       "      <td>887276</td>\n",
       "      <td>True</td>\n",
       "      <td>1</td>\n",
       "      <td>79</td>\n",
       "      <td>123</td>\n",
       "    </tr>\n",
       "    <tr>\n",
       "      <th>3975</th>\n",
       "      <td>166503</td>\n",
       "      <td>2019-08-12 00:00:00+03:00</td>\n",
       "      <td>in</td>\n",
       "      <td>True</td>\n",
       "      <td>884408</td>\n",
       "      <td>True</td>\n",
       "      <td>1</td>\n",
       "      <td>38</td>\n",
       "      <td>69</td>\n",
       "    </tr>\n",
       "    <tr>\n",
       "      <th>4073</th>\n",
       "      <td>166503</td>\n",
       "      <td>2019-09-25 00:00:00+03:00</td>\n",
       "      <td>in</td>\n",
       "      <td>False</td>\n",
       "      <td>906680</td>\n",
       "      <td>True</td>\n",
       "      <td>1</td>\n",
       "      <td>53</td>\n",
       "      <td>70</td>\n",
       "    </tr>\n",
       "    <tr>\n",
       "      <th>4080</th>\n",
       "      <td>166503</td>\n",
       "      <td>2019-09-25 00:00:00+03:00</td>\n",
       "      <td>in</td>\n",
       "      <td>False</td>\n",
       "      <td>884408</td>\n",
       "      <td>True</td>\n",
       "      <td>2</td>\n",
       "      <td>47</td>\n",
       "      <td>84</td>\n",
       "    </tr>\n",
       "  </tbody>\n",
       "</table>\n",
       "</div>"
      ],
      "text/plain": [
       "      user_id                      date direction internal  operator_id  \\\n",
       "1606   166405 2019-11-19 00:00:00+03:00        in    False       939478   \n",
       "1635   166405 2019-11-21 00:00:00+03:00        in    False       882686   \n",
       "1657   166405 2019-11-22 00:00:00+03:00        in    False       882686   \n",
       "2283   166407 2019-09-23 00:00:00+03:00        in    False       888534   \n",
       "2869   166482 2019-11-05 00:00:00+03:00        in    False       934074   \n",
       "2956   166485 2019-09-09 00:00:00+03:00        in    False       887276   \n",
       "3376   166485 2019-10-31 00:00:00+03:00        in    False       887276   \n",
       "3975   166503 2019-08-12 00:00:00+03:00        in     True       884408   \n",
       "4073   166503 2019-09-25 00:00:00+03:00        in    False       906680   \n",
       "4080   166503 2019-09-25 00:00:00+03:00        in    False       884408   \n",
       "\n",
       "      is_missed_call  calls_count  call_duration  total_call_duration  \n",
       "1606            True            1            165                  173  \n",
       "1635            True            1              1                    5  \n",
       "1657            True            1              1                    5  \n",
       "2283            True            1            133                  156  \n",
       "2869            True            1              1                   15  \n",
       "2956            True            1             31                   44  \n",
       "3376            True            1             79                  123  \n",
       "3975            True            1             38                   69  \n",
       "4073            True            1             53                   70  \n",
       "4080            True            2             47                   84  "
      ]
     },
     "execution_count": 19,
     "metadata": {},
     "output_type": "execute_result"
    }
   ],
   "source": [
    "verificar_perdidas.head(10)"
   ]
  },
  {
   "cell_type": "code",
   "execution_count": 20,
   "id": "f8c1932d",
   "metadata": {},
   "outputs": [],
   "source": [
    "# Eliminar las llamadas perdidas con duración diferente de 0, utilizando los índice de verificar_perdidas\n",
    "\n",
    "calls = calls.drop(verificar_perdidas.index)"
   ]
  },
  {
   "cell_type": "code",
   "execution_count": 21,
   "id": "4617dd97",
   "metadata": {},
   "outputs": [
    {
     "name": "stdout",
     "output_type": "stream",
     "text": [
      "Todos los registros cumplen la condición de total_call_duration > call_duration.\n"
     ]
    }
   ],
   "source": [
    "# Verificar filas donde total_call_duration es menor call_duration\n",
    "\n",
    "verificar_duracion = calls[calls['total_call_duration'] < calls['call_duration']]\n",
    "\n",
    "if not verificar_duracion.empty:\n",
    "    print('Existen registros donde total_call_duration es menor a call_duration:')\n",
    "    print(df_invalid_duration.count())\n",
    "else:\n",
    "    print('Todos los registros cumplen la condición de total_call_duration > call_duration.')\n"
   ]
  },
  {
   "cell_type": "code",
   "execution_count": 22,
   "id": "96f556b4",
   "metadata": {},
   "outputs": [
    {
     "name": "stdout",
     "output_type": "stream",
     "text": [
      "<class 'pandas.core.frame.DataFrame'>\n",
      "Int64Index: 45405 entries, 1 to 53900\n",
      "Data columns (total 9 columns):\n",
      " #   Column               Non-Null Count  Dtype                                \n",
      "---  ------               --------------  -----                                \n",
      " 0   user_id              45405 non-null  int64                                \n",
      " 1   date                 45405 non-null  datetime64[ns, pytz.FixedOffset(180)]\n",
      " 2   direction            45405 non-null  object                               \n",
      " 3   internal             45405 non-null  object                               \n",
      " 4   operator_id          45405 non-null  int64                                \n",
      " 5   is_missed_call       45405 non-null  bool                                 \n",
      " 6   calls_count          45405 non-null  int64                                \n",
      " 7   call_duration        45405 non-null  int64                                \n",
      " 8   total_call_duration  45405 non-null  int64                                \n",
      "dtypes: bool(1), datetime64[ns, pytz.FixedOffset(180)](1), int64(5), object(2)\n",
      "memory usage: 3.2+ MB\n"
     ]
    }
   ],
   "source": [
    "# Información de la tabla actualizada\n",
    "\n",
    "calls.info()"
   ]
  },
  {
   "cell_type": "markdown",
   "id": "5bf87faf",
   "metadata": {},
   "source": [
    "### Clients <a id='clients'></a>"
   ]
  },
  {
   "cell_type": "code",
   "execution_count": 23,
   "id": "25b1ee97",
   "metadata": {},
   "outputs": [
    {
     "name": "stdout",
     "output_type": "stream",
     "text": [
      "<class 'pandas.core.frame.DataFrame'>\n",
      "RangeIndex: 732 entries, 0 to 731\n",
      "Data columns (total 3 columns):\n",
      " #   Column       Non-Null Count  Dtype \n",
      "---  ------       --------------  ----- \n",
      " 0   user_id      732 non-null    int64 \n",
      " 1   tariff_plan  732 non-null    object\n",
      " 2   date_start   732 non-null    object\n",
      "dtypes: int64(1), object(2)\n",
      "memory usage: 17.3+ KB\n"
     ]
    }
   ],
   "source": [
    "# información general/resumen sobre el DataFrame Clients\n",
    "clients.info()"
   ]
  },
  {
   "cell_type": "code",
   "execution_count": 24,
   "id": "87cbee7a",
   "metadata": {},
   "outputs": [
    {
     "data": {
      "text/html": [
       "<div>\n",
       "<style scoped>\n",
       "    .dataframe tbody tr th:only-of-type {\n",
       "        vertical-align: middle;\n",
       "    }\n",
       "\n",
       "    .dataframe tbody tr th {\n",
       "        vertical-align: top;\n",
       "    }\n",
       "\n",
       "    .dataframe thead th {\n",
       "        text-align: right;\n",
       "    }\n",
       "</style>\n",
       "<table border=\"1\" class=\"dataframe\">\n",
       "  <thead>\n",
       "    <tr style=\"text-align: right;\">\n",
       "      <th></th>\n",
       "      <th>user_id</th>\n",
       "      <th>tariff_plan</th>\n",
       "      <th>date_start</th>\n",
       "    </tr>\n",
       "  </thead>\n",
       "  <tbody>\n",
       "    <tr>\n",
       "      <th>0</th>\n",
       "      <td>166713</td>\n",
       "      <td>A</td>\n",
       "      <td>2019-08-15</td>\n",
       "    </tr>\n",
       "    <tr>\n",
       "      <th>1</th>\n",
       "      <td>166901</td>\n",
       "      <td>A</td>\n",
       "      <td>2019-08-23</td>\n",
       "    </tr>\n",
       "    <tr>\n",
       "      <th>2</th>\n",
       "      <td>168527</td>\n",
       "      <td>A</td>\n",
       "      <td>2019-10-29</td>\n",
       "    </tr>\n",
       "    <tr>\n",
       "      <th>3</th>\n",
       "      <td>167097</td>\n",
       "      <td>A</td>\n",
       "      <td>2019-09-01</td>\n",
       "    </tr>\n",
       "    <tr>\n",
       "      <th>4</th>\n",
       "      <td>168193</td>\n",
       "      <td>A</td>\n",
       "      <td>2019-10-16</td>\n",
       "    </tr>\n",
       "  </tbody>\n",
       "</table>\n",
       "</div>"
      ],
      "text/plain": [
       "   user_id tariff_plan  date_start\n",
       "0   166713           A  2019-08-15\n",
       "1   166901           A  2019-08-23\n",
       "2   168527           A  2019-10-29\n",
       "3   167097           A  2019-09-01\n",
       "4   168193           A  2019-10-16"
      ]
     },
     "execution_count": 24,
     "metadata": {},
     "output_type": "execute_result"
    }
   ],
   "source": [
    "# Muestra de los datos de clients\n",
    "clients.head()"
   ]
  },
  {
   "cell_type": "code",
   "execution_count": 25,
   "id": "74ecb1e8",
   "metadata": {},
   "outputs": [
    {
     "name": "stdout",
     "output_type": "stream",
     "text": [
      "0\n"
     ]
    }
   ],
   "source": [
    "# Comprobar si hay duplicados\n",
    "\n",
    "print(clients.duplicated().sum())\n",
    "duplicated_clients= clients[clients.duplicated()]"
   ]
  },
  {
   "cell_type": "code",
   "execution_count": 26,
   "id": "1ffb9aca",
   "metadata": {},
   "outputs": [
    {
     "data": {
      "text/plain": [
       "C    395\n",
       "B    261\n",
       "A     76\n",
       "Name: tariff_plan, dtype: int64"
      ]
     },
     "execution_count": 26,
     "metadata": {},
     "output_type": "execute_result"
    }
   ],
   "source": [
    "# Verificar distribución de tariff_plan\n",
    "\n",
    "clients['tariff_plan'].value_counts()"
   ]
  },
  {
   "cell_type": "code",
   "execution_count": 27,
   "id": "01737b0c",
   "metadata": {},
   "outputs": [
    {
     "name": "stdout",
     "output_type": "stream",
     "text": [
      "2019-08-01\n",
      "2019-10-31\n"
     ]
    }
   ],
   "source": [
    "# Verificar máximo y mínimo de date_start\n",
    "\n",
    "print(clients['date_start'].min())\n",
    "print(clients['date_start'].max())"
   ]
  },
  {
   "cell_type": "markdown",
   "id": "a6afb895",
   "metadata": {},
   "source": [
    "El dataset **clients** contiene los siguientes campos:\n",
    "\n",
    "- `user_id`: ID de usuario/a\n",
    "- `tariff_plan`: tarifa actual de la clientela\n",
    "- `date_start`: fecha de registro de la clientela\n",
    "\n",
    "Tenemos un conjunto de datos conformado por 3 columnas y 732 filas.\n",
    "Se necesita ajustar el tipo de dato de la columna date_start.\n",
    "No se encontraron valores ausentes.\n",
    "No se encontraron filas duplicadas.\n",
    "Se determinó que el conjunto de datos comprende a los clientes que se registraron en el período desde 2019-08-01 hasta el 2019-10-31.\n",
    "La columna tariff_plan está conformada por tres tipos de planes el A con 76 clientes, el B con 261 clientes y C con 395 clientes."
   ]
  },
  {
   "cell_type": "markdown",
   "id": "2c92272c",
   "metadata": {},
   "source": [
    "#### Corregir datos<a id='corregir_clients'></a>"
   ]
  },
  {
   "cell_type": "code",
   "execution_count": 28,
   "id": "f3e6e6a6",
   "metadata": {},
   "outputs": [],
   "source": [
    "# Ajustar tipo de dato\n",
    "clients['date_start'] = pd.to_datetime(clients['date_start'])"
   ]
  },
  {
   "cell_type": "code",
   "execution_count": 29,
   "id": "0f658fa3",
   "metadata": {},
   "outputs": [
    {
     "name": "stdout",
     "output_type": "stream",
     "text": [
      "<class 'pandas.core.frame.DataFrame'>\n",
      "RangeIndex: 732 entries, 0 to 731\n",
      "Data columns (total 3 columns):\n",
      " #   Column       Non-Null Count  Dtype         \n",
      "---  ------       --------------  -----         \n",
      " 0   user_id      732 non-null    int64         \n",
      " 1   tariff_plan  732 non-null    object        \n",
      " 2   date_start   732 non-null    datetime64[ns]\n",
      "dtypes: datetime64[ns](1), int64(1), object(1)\n",
      "memory usage: 17.3+ KB\n"
     ]
    }
   ],
   "source": [
    "# información general/resumen sobre el DataFrame Clients\n",
    "clients.info()"
   ]
  },
  {
   "cell_type": "code",
   "execution_count": 30,
   "id": "475d0408",
   "metadata": {},
   "outputs": [
    {
     "data": {
      "text/html": [
       "<div>\n",
       "<style scoped>\n",
       "    .dataframe tbody tr th:only-of-type {\n",
       "        vertical-align: middle;\n",
       "    }\n",
       "\n",
       "    .dataframe tbody tr th {\n",
       "        vertical-align: top;\n",
       "    }\n",
       "\n",
       "    .dataframe thead th {\n",
       "        text-align: right;\n",
       "    }\n",
       "</style>\n",
       "<table border=\"1\" class=\"dataframe\">\n",
       "  <thead>\n",
       "    <tr style=\"text-align: right;\">\n",
       "      <th></th>\n",
       "      <th>user_id</th>\n",
       "      <th>tariff_plan</th>\n",
       "      <th>date_start</th>\n",
       "    </tr>\n",
       "  </thead>\n",
       "  <tbody>\n",
       "    <tr>\n",
       "      <th>0</th>\n",
       "      <td>166713</td>\n",
       "      <td>A</td>\n",
       "      <td>2019-08-15</td>\n",
       "    </tr>\n",
       "    <tr>\n",
       "      <th>1</th>\n",
       "      <td>166901</td>\n",
       "      <td>A</td>\n",
       "      <td>2019-08-23</td>\n",
       "    </tr>\n",
       "    <tr>\n",
       "      <th>2</th>\n",
       "      <td>168527</td>\n",
       "      <td>A</td>\n",
       "      <td>2019-10-29</td>\n",
       "    </tr>\n",
       "    <tr>\n",
       "      <th>3</th>\n",
       "      <td>167097</td>\n",
       "      <td>A</td>\n",
       "      <td>2019-09-01</td>\n",
       "    </tr>\n",
       "    <tr>\n",
       "      <th>4</th>\n",
       "      <td>168193</td>\n",
       "      <td>A</td>\n",
       "      <td>2019-10-16</td>\n",
       "    </tr>\n",
       "  </tbody>\n",
       "</table>\n",
       "</div>"
      ],
      "text/plain": [
       "   user_id tariff_plan date_start\n",
       "0   166713           A 2019-08-15\n",
       "1   166901           A 2019-08-23\n",
       "2   168527           A 2019-10-29\n",
       "3   167097           A 2019-09-01\n",
       "4   168193           A 2019-10-16"
      ]
     },
     "execution_count": 30,
     "metadata": {},
     "output_type": "execute_result"
    }
   ],
   "source": [
    "# Muestra de los datos de clients\n",
    "clients.head()"
   ]
  },
  {
   "cell_type": "markdown",
   "id": "0d064bee",
   "metadata": {},
   "source": [
    "## Análisis Exploratorio de los Datos <a id='analisis'></a>"
   ]
  },
  {
   "cell_type": "code",
   "execution_count": 31,
   "id": "6daeb1d6",
   "metadata": {},
   "outputs": [
    {
     "data": {
      "text/plain": [
       "count     45405.000000\n",
       "mean       1016.430679\n",
       "std        4028.152284\n",
       "min           0.000000\n",
       "25%           0.000000\n",
       "50%         108.000000\n",
       "75%         783.000000\n",
       "max      144395.000000\n",
       "Name: call_duration, dtype: float64"
      ]
     },
     "execution_count": 31,
     "metadata": {},
     "output_type": "execute_result"
    }
   ],
   "source": [
    "# Estudiar los estadísticos que describen los datos\n",
    "\n",
    "calls['call_duration'].describe()\n"
   ]
  },
  {
   "cell_type": "markdown",
   "id": "318db87c",
   "metadata": {},
   "source": [
    "- Con la descripción de los datos se determina que la columna tiene 45405 observaciones, la media o promedio es de 1016.430679, la desviación estándar nos dice que los datos se encuentran dispersos ya que el valor es de 4028.152284, el valor mínimo es 0 mientras que el máximo 144395.000000 es bastante más alto que el mínimo, la mediana que indica el valor que está en el centro de los datos cuando están ordenados es de 108.000000."
   ]
  },
  {
   "cell_type": "code",
   "execution_count": 32,
   "id": "6b7e5fd9",
   "metadata": {},
   "outputs": [
    {
     "data": {
      "text/html": [
       "<div>\n",
       "<style scoped>\n",
       "    .dataframe tbody tr th:only-of-type {\n",
       "        vertical-align: middle;\n",
       "    }\n",
       "\n",
       "    .dataframe tbody tr th {\n",
       "        vertical-align: top;\n",
       "    }\n",
       "\n",
       "    .dataframe thead th {\n",
       "        text-align: right;\n",
       "    }\n",
       "</style>\n",
       "<table border=\"1\" class=\"dataframe\">\n",
       "  <thead>\n",
       "    <tr style=\"text-align: right;\">\n",
       "      <th></th>\n",
       "      <th>user_id</th>\n",
       "      <th>date</th>\n",
       "      <th>direction</th>\n",
       "      <th>internal</th>\n",
       "      <th>operator_id</th>\n",
       "      <th>is_missed_call</th>\n",
       "      <th>calls_count</th>\n",
       "      <th>call_duration</th>\n",
       "      <th>total_call_duration</th>\n",
       "      <th>tiempo_espera</th>\n",
       "    </tr>\n",
       "  </thead>\n",
       "  <tbody>\n",
       "    <tr>\n",
       "      <th>1</th>\n",
       "      <td>166377</td>\n",
       "      <td>2019-08-05 00:00:00+03:00</td>\n",
       "      <td>out</td>\n",
       "      <td>True</td>\n",
       "      <td>880022</td>\n",
       "      <td>True</td>\n",
       "      <td>3</td>\n",
       "      <td>0</td>\n",
       "      <td>5</td>\n",
       "      <td>5</td>\n",
       "    </tr>\n",
       "    <tr>\n",
       "      <th>2</th>\n",
       "      <td>166377</td>\n",
       "      <td>2019-08-05 00:00:00+03:00</td>\n",
       "      <td>out</td>\n",
       "      <td>True</td>\n",
       "      <td>880020</td>\n",
       "      <td>True</td>\n",
       "      <td>1</td>\n",
       "      <td>0</td>\n",
       "      <td>1</td>\n",
       "      <td>1</td>\n",
       "    </tr>\n",
       "    <tr>\n",
       "      <th>3</th>\n",
       "      <td>166377</td>\n",
       "      <td>2019-08-05 00:00:00+03:00</td>\n",
       "      <td>out</td>\n",
       "      <td>True</td>\n",
       "      <td>880020</td>\n",
       "      <td>False</td>\n",
       "      <td>1</td>\n",
       "      <td>10</td>\n",
       "      <td>18</td>\n",
       "      <td>8</td>\n",
       "    </tr>\n",
       "    <tr>\n",
       "      <th>4</th>\n",
       "      <td>166377</td>\n",
       "      <td>2019-08-05 00:00:00+03:00</td>\n",
       "      <td>out</td>\n",
       "      <td>False</td>\n",
       "      <td>880022</td>\n",
       "      <td>True</td>\n",
       "      <td>3</td>\n",
       "      <td>0</td>\n",
       "      <td>25</td>\n",
       "      <td>25</td>\n",
       "    </tr>\n",
       "    <tr>\n",
       "      <th>5</th>\n",
       "      <td>166377</td>\n",
       "      <td>2019-08-05 00:00:00+03:00</td>\n",
       "      <td>out</td>\n",
       "      <td>False</td>\n",
       "      <td>880020</td>\n",
       "      <td>False</td>\n",
       "      <td>2</td>\n",
       "      <td>3</td>\n",
       "      <td>29</td>\n",
       "      <td>26</td>\n",
       "    </tr>\n",
       "  </tbody>\n",
       "</table>\n",
       "</div>"
      ],
      "text/plain": [
       "   user_id                      date direction internal  operator_id  \\\n",
       "1   166377 2019-08-05 00:00:00+03:00       out     True       880022   \n",
       "2   166377 2019-08-05 00:00:00+03:00       out     True       880020   \n",
       "3   166377 2019-08-05 00:00:00+03:00       out     True       880020   \n",
       "4   166377 2019-08-05 00:00:00+03:00       out    False       880022   \n",
       "5   166377 2019-08-05 00:00:00+03:00       out    False       880020   \n",
       "\n",
       "   is_missed_call  calls_count  call_duration  total_call_duration  \\\n",
       "1            True            3              0                    5   \n",
       "2            True            1              0                    1   \n",
       "3           False            1             10                   18   \n",
       "4            True            3              0                   25   \n",
       "5           False            2              3                   29   \n",
       "\n",
       "   tiempo_espera  \n",
       "1              5  \n",
       "2              1  \n",
       "3              8  \n",
       "4             25  \n",
       "5             26  "
      ]
     },
     "execution_count": 32,
     "metadata": {},
     "output_type": "execute_result"
    }
   ],
   "source": [
    "# Calcular el tiempo de espera para cada llamada\n",
    "\n",
    "calls['tiempo_espera']= calls['total_call_duration']- calls['call_duration']\n",
    "calls.head()"
   ]
  },
  {
   "cell_type": "code",
   "execution_count": 33,
   "id": "323910bd",
   "metadata": {},
   "outputs": [
    {
     "data": {
      "text/plain": [
       "count    45405.000000\n",
       "mean       314.439137\n",
       "std       1178.124502\n",
       "min          0.000000\n",
       "25%         19.000000\n",
       "50%         61.000000\n",
       "75%        222.000000\n",
       "max      46474.000000\n",
       "Name: tiempo_espera, dtype: float64"
      ]
     },
     "execution_count": 33,
     "metadata": {},
     "output_type": "execute_result"
    }
   ],
   "source": [
    "# Estudiar los estadísticos que describen los datos\n",
    "\n",
    "calls['tiempo_espera'].describe()"
   ]
  },
  {
   "cell_type": "markdown",
   "id": "fcf6931b",
   "metadata": {},
   "source": [
    "- Con la descripción de los datos se determina que la columna tiene 45405 observaciones, la media o promedio es de 314.439137, la desviación estándar nos dice que los datos se encuentran dispersos ya que el valor es de 1178.124502, el valor mínimo es 0 mientras que el máximo 46474.000000 es bastante más alto que el mínimo, la mediana que indica el valor que está en el centro de los datos cuando están ordenados es de 61.000000."
   ]
  },
  {
   "cell_type": "code",
   "execution_count": 34,
   "id": "7f85f23a",
   "metadata": {},
   "outputs": [
    {
     "data": {
      "text/plain": [
       "False            39575\n",
       "True              5771\n",
       "No disponible       59\n",
       "Name: internal, dtype: int64"
      ]
     },
     "execution_count": 34,
     "metadata": {},
     "output_type": "execute_result"
    }
   ],
   "source": [
    "# cantidad de llamadas llamadas internas y externas\n",
    "\n",
    "calls['internal'].value_counts()"
   ]
  },
  {
   "cell_type": "code",
   "execution_count": 35,
   "id": "66112fb0",
   "metadata": {},
   "outputs": [
    {
     "data": {
      "text/plain": [
       "False            87.160004\n",
       "True             12.710054\n",
       "No disponible     0.129942\n",
       "Name: internal, dtype: float64"
      ]
     },
     "execution_count": 35,
     "metadata": {},
     "output_type": "execute_result"
    }
   ],
   "source": [
    "# Porcentaje de llamadas internas y externas\n",
    "calls['internal'].value_counts(normalize=True)*100"
   ]
  },
  {
   "cell_type": "code",
   "execution_count": 36,
   "id": "5319e493",
   "metadata": {},
   "outputs": [
    {
     "data": {
      "image/png": "[encoded data removed]",
      "text/plain": [
       "<Figure size 432x288 with 1 Axes>"
      ]
     },
     "metadata": {
      "needs_background": "light"
     },
     "output_type": "display_data"
    }
   ],
   "source": [
    "# Mostrar la cantidad de llamadas internas y externas\n",
    "\n",
    "calls_tipos = calls['internal'].value_counts()\n",
    "calls_tipos = calls_tipos.rename({False: 'Llamada externa', True: 'Llamada interna'})\n",
    "\n",
    "sns.barplot(x=calls_tipos.index, y=calls_tipos.values)\n",
    "plt.ylabel('Cantidad de llamadas')\n",
    "plt.title('Cantidad de llamadas internas y externas')\n",
    "plt.show()"
   ]
  },
  {
   "cell_type": "markdown",
   "id": "fc2b9a78",
   "metadata": {},
   "source": [
    "- La cantidad de llamadas externas representan la mayoría de las llamadas con 39575 que representa el 87.160004 % de los datos, mientras que las llamadas internas solo 5771 el 12.710054 %, luego tenemos un muy pequeño grupo de llamadas de las que no tenemos información a cual de los grupos pertenece que solo representa el 0.129942 %. "
   ]
  },
  {
   "cell_type": "code",
   "execution_count": 37,
   "id": "d5185de2",
   "metadata": {},
   "outputs": [
    {
     "data": {
      "text/plain": [
       "out    31693\n",
       "in     13712\n",
       "Name: direction, dtype: int64"
      ]
     },
     "execution_count": 37,
     "metadata": {},
     "output_type": "execute_result"
    }
   ],
   "source": [
    "# cantidad de llamadas salientes y entrantes\n",
    "\n",
    "calls['direction'].value_counts()"
   ]
  },
  {
   "cell_type": "code",
   "execution_count": 38,
   "id": "2f6f78e3",
   "metadata": {},
   "outputs": [
    {
     "data": {
      "text/plain": [
       "out    69.800683\n",
       "in     30.199317\n",
       "Name: direction, dtype: float64"
      ]
     },
     "execution_count": 38,
     "metadata": {},
     "output_type": "execute_result"
    }
   ],
   "source": [
    "# Porcentaje de llamadas salientes y entrantes\n",
    "calls['direction'].value_counts(normalize=True)*100"
   ]
  },
  {
   "cell_type": "code",
   "execution_count": 39,
   "id": "9dde2155",
   "metadata": {},
   "outputs": [
    {
     "data": {
      "image/png": "[encoded data removed]",
      "text/plain": [
       "<Figure size 432x288 with 1 Axes>"
      ]
     },
     "metadata": {
      "needs_background": "light"
     },
     "output_type": "display_data"
    }
   ],
   "source": [
    "# Mostrar la cantidad  de  llamadas salientes y entrantes\n",
    "\n",
    "calls_tipos_2 = calls['direction'].value_counts()\n",
    "calls_tipos_2 = calls_tipos_2.rename({'in': 'Llamada Entrante', 'out': 'Llamada Saliente'})\n",
    "\n",
    "sns.barplot(x=calls_tipos_2.index, y=calls_tipos_2.values)\n",
    "plt.ylabel('Cantidad de llamadas')\n",
    "plt.title('Cantidad de llamadas entrantes y salientes')\n",
    "plt.show()\n"
   ]
  },
  {
   "cell_type": "markdown",
   "id": "889cc8d1",
   "metadata": {},
   "source": [
    "- La cantidad de llamadas salientes representan la mayoría de las llamadas con 31693 que representa el 69.800683 % , mientras que las llamadas entrantes se registran 13712 el 30.199317 %."
   ]
  },
  {
   "cell_type": "markdown",
   "id": "bfb1313e",
   "metadata": {},
   "source": [
    "## Estudiar el comportamiento de los operadores <a id='estudiar'></a>"
   ]
  },
  {
   "cell_type": "markdown",
   "id": "0aed091c",
   "metadata": {},
   "source": [
    " Se considera que un operador es ineficaz si tiene una gran cantidad de llamadas entrantes perdidas (internas y externas) y un tiempo de espera prolongado para las llamadas entrantes. Además, si se supone que un operador debe realizar llamadas salientes, un número reducido de ellas también será un signo de ineficacia."
   ]
  },
  {
   "cell_type": "code",
   "execution_count": 40,
   "id": "b4527ee5",
   "metadata": {},
   "outputs": [],
   "source": [
    "# Filtrar los datos con la información de las llamadas entrantes y salientes por separado\n",
    "\n",
    "llamadas_entrantes = calls[calls['direction'] == 'in']\n",
    "llamadas_salientes = calls[calls['direction'] == 'out']"
   ]
  },
  {
   "cell_type": "code",
   "execution_count": 41,
   "id": "2877adf7",
   "metadata": {},
   "outputs": [],
   "source": [
    "# Calcular la cantidad de llamadas salientes por operador \n",
    "\n",
    "llamadas_salientes_count = llamadas_salientes.groupby('operator_id')['calls_count'].sum()"
   ]
  },
  {
   "cell_type": "code",
   "execution_count": 42,
   "id": "af373e90",
   "metadata": {},
   "outputs": [
    {
     "data": {
      "text/plain": [
       "count      882.000000\n",
       "mean       758.786848\n",
       "std       3437.152007\n",
       "min          1.000000\n",
       "25%         13.000000\n",
       "50%         99.000000\n",
       "75%        656.500000\n",
       "max      64897.000000\n",
       "Name: calls_count, dtype: float64"
      ]
     },
     "execution_count": 42,
     "metadata": {},
     "output_type": "execute_result"
    }
   ],
   "source": [
    "llamadas_salientes_count.describe()"
   ]
  },
  {
   "cell_type": "code",
   "execution_count": 43,
   "id": "86357a6a",
   "metadata": {},
   "outputs": [
    {
     "data": {
      "image/png": "[encoded data removed]",
      "text/plain": [
       "<Figure size 576x432 with 1 Axes>"
      ]
     },
     "metadata": {
      "needs_background": "light"
     },
     "output_type": "display_data"
    }
   ],
   "source": [
    "# Distribución de la cantidad de llamadas salientes por operador\n",
    "\n",
    "plt.figure(figsize=(8, 6))\n",
    "plt.hist(llamadas_salientes_count, bins=200, log=True)\n",
    "plt.xlabel('Cantidad de llamadas salientes')\n",
    "plt.ylabel('Frecuencia (Escala logaritmica)')\n",
    "plt.title('Histograma de cantidad de llamadas salientes por operador (Escala logaritmica)')\n",
    "plt.show()"
   ]
  },
  {
   "cell_type": "markdown",
   "id": "eddc41de",
   "metadata": {},
   "source": [
    "Se estudió la cantidad de llamadas salientes por operador ya que un número reducido de llamdas salientes es signo de ineficiencia y se puede observar que los valores se encuentran dispersos y esto se demuestra con una desviación estándar muy alta 3437.152007, los valores atípicos llegas hasta más de 60000 llamadas por operador."
   ]
  },
  {
   "cell_type": "code",
   "execution_count": 44,
   "id": "b278bfe2",
   "metadata": {},
   "outputs": [],
   "source": [
    "# Calcular cantidad de llamadas entrantes perdidas por operador\n",
    "\n",
    "llamadas_perdidas_entrantes_count = llamadas_entrantes.groupby('operator_id')['is_missed_call'].sum()\n"
   ]
  },
  {
   "cell_type": "code",
   "execution_count": 45,
   "id": "1c1b5ca5",
   "metadata": {},
   "outputs": [
    {
     "data": {
      "text/plain": [
       "operator_id\n",
       "879896    0\n",
       "879898    0\n",
       "880020    0\n",
       "880022    0\n",
       "880026    0\n",
       "         ..\n",
       "971102    0\n",
       "971354    0\n",
       "972412    0\n",
       "972460    0\n",
       "973286    0\n",
       "Name: is_missed_call, Length: 753, dtype: int64"
      ]
     },
     "execution_count": 45,
     "metadata": {},
     "output_type": "execute_result"
    }
   ],
   "source": [
    "llamadas_perdidas_entrantes_count"
   ]
  },
  {
   "cell_type": "code",
   "execution_count": 46,
   "id": "3396a8b1",
   "metadata": {},
   "outputs": [
    {
     "data": {
      "image/png": "[encoded data removed]",
      "text/plain": [
       "<Figure size 576x432 with 1 Axes>"
      ]
     },
     "metadata": {
      "needs_background": "light"
     },
     "output_type": "display_data"
    }
   ],
   "source": [
    "# Distribución de la cantidad promedio de llamadas entrantes perdidas por operador\n",
    "plt.figure(figsize=(8, 6))\n",
    "sns.kdeplot(llamadas_perdidas_entrantes_count.values, shade=True)\n",
    "plt.xlabel('Cantidad de llamadas entrantes perdidas por operador')\n",
    "plt.ylabel('Densidad')\n",
    "plt.title('Distribución de la cantidad de llamadas entrantes perdidas')\n",
    "plt.show()"
   ]
  },
  {
   "cell_type": "markdown",
   "id": "1cef2e8f",
   "metadata": {},
   "source": [
    "Se estudió la cantidad de llamadas entrantes perdidas por operador ya que es una señal de ineficiencia y se pueden observar algunos valores atípicos que van desde el 5 hasta 17.5, la mayoría de los datos se encuentran ubicados en 0 llamadas perdidas por operador."
   ]
  },
  {
   "cell_type": "code",
   "execution_count": 47,
   "id": "2e385453",
   "metadata": {},
   "outputs": [],
   "source": [
    "# Calcular el tiempo de espera promedio de las llamadas entrantes por operador \n",
    "\n",
    "tiempo_espera = llamadas_entrantes.groupby('operator_id')['tiempo_espera'].mean()"
   ]
  },
  {
   "cell_type": "code",
   "execution_count": 48,
   "id": "a27d5a26",
   "metadata": {},
   "outputs": [
    {
     "data": {
      "text/plain": [
       "count     753.000000\n",
       "mean       59.057029\n",
       "std        98.018506\n",
       "min         1.000000\n",
       "25%        17.636364\n",
       "50%        31.071429\n",
       "75%        59.093333\n",
       "max      1039.540541\n",
       "Name: tiempo_espera, dtype: float64"
      ]
     },
     "execution_count": 48,
     "metadata": {},
     "output_type": "execute_result"
    }
   ],
   "source": [
    "tiempo_espera.describe()"
   ]
  },
  {
   "cell_type": "code",
   "execution_count": 49,
   "id": "394222b3",
   "metadata": {},
   "outputs": [
    {
     "data": {
      "image/png": "[encoded data removed]",
      "text/plain": [
       "<Figure size 576x432 with 1 Axes>"
      ]
     },
     "metadata": {
      "needs_background": "light"
     },
     "output_type": "display_data"
    }
   ],
   "source": [
    "plt.figure(figsize=(8, 6))\n",
    "sns.kdeplot(tiempo_espera.values, shade=True)\n",
    "plt.xlabel('Tiempo de espera promedio')\n",
    "plt.ylabel('Densidad')\n",
    "plt.title('Distribución del tiempo de espera promedio de las llamadas entrantes')\n",
    "plt.show()"
   ]
  },
  {
   "cell_type": "markdown",
   "id": "4976f6ca",
   "metadata": {},
   "source": [
    "Se estudió el tiempo de espera promedio por operador ya que es una señal de ineficiencia y se puede observar que los valores se encuentran dispersos y esto se demuestra con una desviación estándar alta 98.018506, el valor mínimo es 1 y el máximo 1039.540541, también vemos que la media es de 59.057029 donde se encuentra el punto más alto de la curva."
   ]
  },
  {
   "cell_type": "code",
   "execution_count": 50,
   "id": "d6c0ab49",
   "metadata": {},
   "outputs": [],
   "source": [
    "# Dataframe con el comportamiento de los usuarios"
   ]
  },
  {
   "cell_type": "code",
   "execution_count": 51,
   "id": "16c0757e",
   "metadata": {},
   "outputs": [],
   "source": [
    "tiempo_espera= tiempo_espera.to_frame().reset_index()\n",
    "llamadas_perdidas_entrantes_count= llamadas_perdidas_entrantes_count.to_frame().reset_index()\n",
    "llamadas_salientes_count= llamadas_salientes_count.to_frame().reset_index()\n",
    "\n",
    "# Unir los 3 dataFrames\n",
    "operadores = llamadas_perdidas_entrantes_count.merge(tiempo_espera, on='operator_id', how='outer').merge(llamadas_salientes_count, on='operator_id', how='outer')\n"
   ]
  },
  {
   "cell_type": "code",
   "execution_count": 52,
   "id": "75b6b665",
   "metadata": {},
   "outputs": [],
   "source": [
    "# Reenombrar columnas\n",
    "operadores.columns= ['id_operador','llamadas_perdidas','tiempo_espera','llamadas_salientes']"
   ]
  },
  {
   "cell_type": "code",
   "execution_count": 53,
   "id": "7d67533f",
   "metadata": {},
   "outputs": [
    {
     "name": "stdout",
     "output_type": "stream",
     "text": [
      "<class 'pandas.core.frame.DataFrame'>\n",
      "Int64Index: 1092 entries, 0 to 1091\n",
      "Data columns (total 4 columns):\n",
      " #   Column              Non-Null Count  Dtype  \n",
      "---  ------              --------------  -----  \n",
      " 0   id_operador         1092 non-null   int64  \n",
      " 1   llamadas_perdidas   753 non-null    float64\n",
      " 2   tiempo_espera       753 non-null    float64\n",
      " 3   llamadas_salientes  882 non-null    float64\n",
      "dtypes: float64(3), int64(1)\n",
      "memory usage: 42.7 KB\n"
     ]
    }
   ],
   "source": [
    "# Información dataframe resultante operadores\n",
    "operadores.info()"
   ]
  },
  {
   "cell_type": "code",
   "execution_count": 54,
   "id": "64163a5a",
   "metadata": {},
   "outputs": [
    {
     "data": {
      "text/html": [
       "<div>\n",
       "<style scoped>\n",
       "    .dataframe tbody tr th:only-of-type {\n",
       "        vertical-align: middle;\n",
       "    }\n",
       "\n",
       "    .dataframe tbody tr th {\n",
       "        vertical-align: top;\n",
       "    }\n",
       "\n",
       "    .dataframe thead th {\n",
       "        text-align: right;\n",
       "    }\n",
       "</style>\n",
       "<table border=\"1\" class=\"dataframe\">\n",
       "  <thead>\n",
       "    <tr style=\"text-align: right;\">\n",
       "      <th></th>\n",
       "      <th>id_operador</th>\n",
       "      <th>llamadas_perdidas</th>\n",
       "      <th>tiempo_espera</th>\n",
       "      <th>llamadas_salientes</th>\n",
       "    </tr>\n",
       "  </thead>\n",
       "  <tbody>\n",
       "    <tr>\n",
       "      <th>0</th>\n",
       "      <td>879896</td>\n",
       "      <td>0.0</td>\n",
       "      <td>26.913043</td>\n",
       "      <td>1071.0</td>\n",
       "    </tr>\n",
       "    <tr>\n",
       "      <th>1</th>\n",
       "      <td>879898</td>\n",
       "      <td>0.0</td>\n",
       "      <td>28.203125</td>\n",
       "      <td>7856.0</td>\n",
       "    </tr>\n",
       "    <tr>\n",
       "      <th>2</th>\n",
       "      <td>880020</td>\n",
       "      <td>0.0</td>\n",
       "      <td>7.250000</td>\n",
       "      <td>46.0</td>\n",
       "    </tr>\n",
       "    <tr>\n",
       "      <th>3</th>\n",
       "      <td>880022</td>\n",
       "      <td>0.0</td>\n",
       "      <td>14.000000</td>\n",
       "      <td>211.0</td>\n",
       "    </tr>\n",
       "    <tr>\n",
       "      <th>4</th>\n",
       "      <td>880026</td>\n",
       "      <td>0.0</td>\n",
       "      <td>7.894737</td>\n",
       "      <td>2414.0</td>\n",
       "    </tr>\n",
       "    <tr>\n",
       "      <th>5</th>\n",
       "      <td>880028</td>\n",
       "      <td>0.0</td>\n",
       "      <td>8.844444</td>\n",
       "      <td>2836.0</td>\n",
       "    </tr>\n",
       "    <tr>\n",
       "      <th>6</th>\n",
       "      <td>882476</td>\n",
       "      <td>0.0</td>\n",
       "      <td>31.666667</td>\n",
       "      <td>NaN</td>\n",
       "    </tr>\n",
       "    <tr>\n",
       "      <th>7</th>\n",
       "      <td>882478</td>\n",
       "      <td>0.0</td>\n",
       "      <td>38.000000</td>\n",
       "      <td>1.0</td>\n",
       "    </tr>\n",
       "    <tr>\n",
       "      <th>8</th>\n",
       "      <td>882680</td>\n",
       "      <td>3.0</td>\n",
       "      <td>37.108696</td>\n",
       "      <td>NaN</td>\n",
       "    </tr>\n",
       "    <tr>\n",
       "      <th>9</th>\n",
       "      <td>882684</td>\n",
       "      <td>4.0</td>\n",
       "      <td>191.730769</td>\n",
       "      <td>721.0</td>\n",
       "    </tr>\n",
       "  </tbody>\n",
       "</table>\n",
       "</div>"
      ],
      "text/plain": [
       "   id_operador  llamadas_perdidas  tiempo_espera  llamadas_salientes\n",
       "0       879896                0.0      26.913043              1071.0\n",
       "1       879898                0.0      28.203125              7856.0\n",
       "2       880020                0.0       7.250000                46.0\n",
       "3       880022                0.0      14.000000               211.0\n",
       "4       880026                0.0       7.894737              2414.0\n",
       "5       880028                0.0       8.844444              2836.0\n",
       "6       882476                0.0      31.666667                 NaN\n",
       "7       882478                0.0      38.000000                 1.0\n",
       "8       882680                3.0      37.108696                 NaN\n",
       "9       882684                4.0     191.730769               721.0"
      ]
     },
     "execution_count": 54,
     "metadata": {},
     "output_type": "execute_result"
    }
   ],
   "source": [
    "# Muestra de datos DataFrame resultante operadores\n",
    "operadores.head(10)"
   ]
  },
  {
   "cell_type": "code",
   "execution_count": 55,
   "id": "f96a5562",
   "metadata": {},
   "outputs": [
    {
     "name": "stdout",
     "output_type": "stream",
     "text": [
      "<class 'pandas.core.frame.DataFrame'>\n",
      "Int64Index: 1092 entries, 0 to 1091\n",
      "Data columns (total 4 columns):\n",
      " #   Column              Non-Null Count  Dtype  \n",
      "---  ------              --------------  -----  \n",
      " 0   id_operador         1092 non-null   int64  \n",
      " 1   llamadas_perdidas   1092 non-null   float64\n",
      " 2   tiempo_espera       1092 non-null   float64\n",
      " 3   llamadas_salientes  1092 non-null   float64\n",
      "dtypes: float64(3), int64(1)\n",
      "memory usage: 42.7 KB\n"
     ]
    }
   ],
   "source": [
    "# Reemplazar los valores nulos con ceros \n",
    "operadores.fillna({'llamadas_perdidas':0, 'tiempo_espera': 0, 'llamadas_salientes': 0}, inplace=True)\n",
    "operadores.info()"
   ]
  },
  {
   "cell_type": "code",
   "execution_count": 56,
   "id": "a6e5677e",
   "metadata": {},
   "outputs": [
    {
     "data": {
      "text/html": [
       "<div>\n",
       "<style scoped>\n",
       "    .dataframe tbody tr th:only-of-type {\n",
       "        vertical-align: middle;\n",
       "    }\n",
       "\n",
       "    .dataframe tbody tr th {\n",
       "        vertical-align: top;\n",
       "    }\n",
       "\n",
       "    .dataframe thead th {\n",
       "        text-align: right;\n",
       "    }\n",
       "</style>\n",
       "<table border=\"1\" class=\"dataframe\">\n",
       "  <thead>\n",
       "    <tr style=\"text-align: right;\">\n",
       "      <th></th>\n",
       "      <th>id_operador</th>\n",
       "      <th>llamadas_perdidas</th>\n",
       "      <th>tiempo_espera</th>\n",
       "      <th>llamadas_salientes</th>\n",
       "    </tr>\n",
       "  </thead>\n",
       "  <tbody>\n",
       "    <tr>\n",
       "      <th>0</th>\n",
       "      <td>879896</td>\n",
       "      <td>0.0</td>\n",
       "      <td>26.913043</td>\n",
       "      <td>1071.0</td>\n",
       "    </tr>\n",
       "    <tr>\n",
       "      <th>1</th>\n",
       "      <td>879898</td>\n",
       "      <td>0.0</td>\n",
       "      <td>28.203125</td>\n",
       "      <td>7856.0</td>\n",
       "    </tr>\n",
       "    <tr>\n",
       "      <th>2</th>\n",
       "      <td>880020</td>\n",
       "      <td>0.0</td>\n",
       "      <td>7.250000</td>\n",
       "      <td>46.0</td>\n",
       "    </tr>\n",
       "    <tr>\n",
       "      <th>3</th>\n",
       "      <td>880022</td>\n",
       "      <td>0.0</td>\n",
       "      <td>14.000000</td>\n",
       "      <td>211.0</td>\n",
       "    </tr>\n",
       "    <tr>\n",
       "      <th>4</th>\n",
       "      <td>880026</td>\n",
       "      <td>0.0</td>\n",
       "      <td>7.894737</td>\n",
       "      <td>2414.0</td>\n",
       "    </tr>\n",
       "    <tr>\n",
       "      <th>5</th>\n",
       "      <td>880028</td>\n",
       "      <td>0.0</td>\n",
       "      <td>8.844444</td>\n",
       "      <td>2836.0</td>\n",
       "    </tr>\n",
       "    <tr>\n",
       "      <th>6</th>\n",
       "      <td>882476</td>\n",
       "      <td>0.0</td>\n",
       "      <td>31.666667</td>\n",
       "      <td>0.0</td>\n",
       "    </tr>\n",
       "    <tr>\n",
       "      <th>7</th>\n",
       "      <td>882478</td>\n",
       "      <td>0.0</td>\n",
       "      <td>38.000000</td>\n",
       "      <td>1.0</td>\n",
       "    </tr>\n",
       "    <tr>\n",
       "      <th>8</th>\n",
       "      <td>882680</td>\n",
       "      <td>3.0</td>\n",
       "      <td>37.108696</td>\n",
       "      <td>0.0</td>\n",
       "    </tr>\n",
       "    <tr>\n",
       "      <th>9</th>\n",
       "      <td>882684</td>\n",
       "      <td>4.0</td>\n",
       "      <td>191.730769</td>\n",
       "      <td>721.0</td>\n",
       "    </tr>\n",
       "  </tbody>\n",
       "</table>\n",
       "</div>"
      ],
      "text/plain": [
       "   id_operador  llamadas_perdidas  tiempo_espera  llamadas_salientes\n",
       "0       879896                0.0      26.913043              1071.0\n",
       "1       879898                0.0      28.203125              7856.0\n",
       "2       880020                0.0       7.250000                46.0\n",
       "3       880022                0.0      14.000000               211.0\n",
       "4       880026                0.0       7.894737              2414.0\n",
       "5       880028                0.0       8.844444              2836.0\n",
       "6       882476                0.0      31.666667                 0.0\n",
       "7       882478                0.0      38.000000                 1.0\n",
       "8       882680                3.0      37.108696                 0.0\n",
       "9       882684                4.0     191.730769               721.0"
      ]
     },
     "execution_count": 56,
     "metadata": {},
     "output_type": "execute_result"
    }
   ],
   "source": [
    "# Muestra de datos \n",
    "\n",
    "operadores.head(10)"
   ]
  },
  {
   "cell_type": "markdown",
   "id": "8db764ce",
   "metadata": {},
   "source": [
    "## Identificar operadores ineficientes <a id='identificar'></a>"
   ]
  },
  {
   "cell_type": "code",
   "execution_count": 57,
   "id": "7e0b4b94",
   "metadata": {},
   "outputs": [
    {
     "name": "stdout",
     "output_type": "stream",
     "text": [
      "[1.   2.   8.09]\n"
     ]
    }
   ],
   "source": [
    "# Cálculo de percentiles 90, 95 y 99 para las llamadas perdidas\n",
    "\n",
    "print(np.percentile(operadores['llamadas_perdidas'], [90,95,99]))"
   ]
  },
  {
   "cell_type": "markdown",
   "id": "74e85e63",
   "metadata": {},
   "source": [
    "No mas del 5% de los operadores tiene más de 2 llamadas y no más del 1% de los operadores tiene más de 8 llamadas perdidas."
   ]
  },
  {
   "cell_type": "code",
   "execution_count": 58,
   "id": "fe316e5b",
   "metadata": {},
   "outputs": [
    {
     "name": "stdout",
     "output_type": "stream",
     "text": [
      "[ 85.05164835 152.15662736 452.36714286]\n"
     ]
    }
   ],
   "source": [
    "# Calculo de percentiles 90, 95 y 99 para el tiempo_espera\n",
    "\n",
    "print(np.percentile(operadores['tiempo_espera'], [90,95,99]))"
   ]
  },
  {
   "cell_type": "markdown",
   "id": "e9e56558",
   "metadata": {},
   "source": [
    "No mas del 5% de los operadores tiene un tiempo de espera superior a 152.15662736 y no más del 1% de los operadores tiene un tiempo de espera superior a 452.36714286"
   ]
  },
  {
   "cell_type": "code",
   "execution_count": 59,
   "id": "1a918351",
   "metadata": {},
   "outputs": [
    {
     "name": "stdout",
     "output_type": "stream",
     "text": [
      "[ 0.   2.  36.5]\n"
     ]
    }
   ],
   "source": [
    "# Calculo de percentiles 10,25,50 para las llamadas salientes\n",
    "\n",
    "print(np.percentile(operadores['llamadas_salientes'], [10,25,50]))"
   ]
  },
  {
   "cell_type": "code",
   "execution_count": 60,
   "id": "6f40ef35",
   "metadata": {},
   "outputs": [
    {
     "data": {
      "text/plain": [
       "0.0       210\n",
       "1.0        55\n",
       "2.0        30\n",
       "3.0        23\n",
       "4.0        17\n",
       "         ... \n",
       "492.0       1\n",
       "195.0       1\n",
       "187.0       1\n",
       "1346.0      1\n",
       "436.0       1\n",
       "Name: llamadas_salientes, Length: 466, dtype: int64"
      ]
     },
     "execution_count": 60,
     "metadata": {},
     "output_type": "execute_result"
    }
   ],
   "source": [
    "operadores['llamadas_salientes'].value_counts()"
   ]
  },
  {
   "cell_type": "markdown",
   "id": "fb0b3df1",
   "metadata": {},
   "source": [
    "- Menos del 10% de los operadores no realizaron ninguna llamada salientes."
   ]
  },
  {
   "cell_type": "markdown",
   "id": "b9983952",
   "metadata": {},
   "source": [
    "###  Conclusiones <a id='conclu_ineficientes'></a>"
   ]
  },
  {
   "cell_type": "markdown",
   "id": "4a42720b",
   "metadata": {},
   "source": [
    "- Luego de calcular los percentiles podemos identificar como operadores ineficientes a aquellos que tienen más de 8 llamadas entrantes perdidas, el tiempo de espera es mayor a 452.36714286] y no realizaron ninguna llamada salientes. "
   ]
  },
  {
   "cell_type": "code",
   "execution_count": 61,
   "id": "106d3f5c",
   "metadata": {},
   "outputs": [],
   "source": [
    "# definir constantes\n",
    "\n",
    "tiempo_espera= np.percentile(operadores['tiempo_espera'],99)\n",
    "llamadas_salientes = np.percentile(operadores['llamadas_perdidas'], 10)\n",
    "llamadas_perdidas= np.percentile(operadores['llamadas_perdidas'], 99)"
   ]
  },
  {
   "cell_type": "code",
   "execution_count": 62,
   "id": "119ed58b",
   "metadata": {},
   "outputs": [],
   "source": [
    "# Filtrar operadores ineficientes\n",
    "\n",
    "operadores_ineficientes_1 = operadores[operadores['tiempo_espera'] > tiempo_espera]['id_operador']\n",
    "operadores_ineficientes_2 = operadores[operadores['llamadas_salientes'] <= llamadas_salientes]['id_operador']\n",
    "operadores_ineficientes_3 = operadores[operadores['llamadas_perdidas'] >  llamadas_perdidas]['id_operador']\n"
   ]
  },
  {
   "cell_type": "code",
   "execution_count": 63,
   "id": "f956ed7c",
   "metadata": {},
   "outputs": [
    {
     "name": "stdout",
     "output_type": "stream",
     "text": [
      "(230,)\n"
     ]
    }
   ],
   "source": [
    "operadores_ineficientes = pd.concat([operadores_ineficientes_1, operadores_ineficientes_2, operadores_ineficientes_3], axis = 0).drop_duplicates().sort_values()\n",
    "print(operadores_ineficientes.shape) "
   ]
  },
  {
   "cell_type": "code",
   "execution_count": 64,
   "id": "b1536010",
   "metadata": {},
   "outputs": [
    {
     "data": {
      "text/plain": [
       "6      882476\n",
       "8      882680\n",
       "15     884294\n",
       "19     884524\n",
       "21     885876\n",
       "        ...  \n",
       "738    968520\n",
       "747    971100\n",
       "748    971102\n",
       "749    971354\n",
       "752    973286\n",
       "Name: id_operador, Length: 230, dtype: int64"
      ]
     },
     "execution_count": 64,
     "metadata": {},
     "output_type": "execute_result"
    }
   ],
   "source": [
    "operadores_ineficientes"
   ]
  },
  {
   "cell_type": "code",
   "execution_count": 65,
   "id": "a6b04666",
   "metadata": {},
   "outputs": [
    {
     "data": {
      "text/html": [
       "<div>\n",
       "<style scoped>\n",
       "    .dataframe tbody tr th:only-of-type {\n",
       "        vertical-align: middle;\n",
       "    }\n",
       "\n",
       "    .dataframe tbody tr th {\n",
       "        vertical-align: top;\n",
       "    }\n",
       "\n",
       "    .dataframe thead th {\n",
       "        text-align: right;\n",
       "    }\n",
       "</style>\n",
       "<table border=\"1\" class=\"dataframe\">\n",
       "  <thead>\n",
       "    <tr style=\"text-align: right;\">\n",
       "      <th></th>\n",
       "      <th>id_operador</th>\n",
       "      <th>llamadas_perdidas</th>\n",
       "      <th>tiempo_espera</th>\n",
       "      <th>llamadas_salientes</th>\n",
       "    </tr>\n",
       "  </thead>\n",
       "  <tbody>\n",
       "    <tr>\n",
       "      <th>0</th>\n",
       "      <td>882476</td>\n",
       "      <td>0.0</td>\n",
       "      <td>31.666667</td>\n",
       "      <td>0.0</td>\n",
       "    </tr>\n",
       "    <tr>\n",
       "      <th>1</th>\n",
       "      <td>882680</td>\n",
       "      <td>3.0</td>\n",
       "      <td>37.108696</td>\n",
       "      <td>0.0</td>\n",
       "    </tr>\n",
       "    <tr>\n",
       "      <th>2</th>\n",
       "      <td>884294</td>\n",
       "      <td>0.0</td>\n",
       "      <td>6.000000</td>\n",
       "      <td>0.0</td>\n",
       "    </tr>\n",
       "    <tr>\n",
       "      <th>3</th>\n",
       "      <td>884524</td>\n",
       "      <td>0.0</td>\n",
       "      <td>10.333333</td>\n",
       "      <td>0.0</td>\n",
       "    </tr>\n",
       "    <tr>\n",
       "      <th>4</th>\n",
       "      <td>885876</td>\n",
       "      <td>15.0</td>\n",
       "      <td>107.494845</td>\n",
       "      <td>64897.0</td>\n",
       "    </tr>\n",
       "    <tr>\n",
       "      <th>...</th>\n",
       "      <td>...</td>\n",
       "      <td>...</td>\n",
       "      <td>...</td>\n",
       "      <td>...</td>\n",
       "    </tr>\n",
       "    <tr>\n",
       "      <th>225</th>\n",
       "      <td>968520</td>\n",
       "      <td>0.0</td>\n",
       "      <td>5.000000</td>\n",
       "      <td>0.0</td>\n",
       "    </tr>\n",
       "    <tr>\n",
       "      <th>226</th>\n",
       "      <td>971100</td>\n",
       "      <td>0.0</td>\n",
       "      <td>13.000000</td>\n",
       "      <td>0.0</td>\n",
       "    </tr>\n",
       "    <tr>\n",
       "      <th>227</th>\n",
       "      <td>971102</td>\n",
       "      <td>0.0</td>\n",
       "      <td>274.000000</td>\n",
       "      <td>0.0</td>\n",
       "    </tr>\n",
       "    <tr>\n",
       "      <th>228</th>\n",
       "      <td>971354</td>\n",
       "      <td>0.0</td>\n",
       "      <td>42.000000</td>\n",
       "      <td>0.0</td>\n",
       "    </tr>\n",
       "    <tr>\n",
       "      <th>229</th>\n",
       "      <td>973286</td>\n",
       "      <td>0.0</td>\n",
       "      <td>88.000000</td>\n",
       "      <td>0.0</td>\n",
       "    </tr>\n",
       "  </tbody>\n",
       "</table>\n",
       "<p>230 rows × 4 columns</p>\n",
       "</div>"
      ],
      "text/plain": [
       "     id_operador  llamadas_perdidas  tiempo_espera  llamadas_salientes\n",
       "0         882476                0.0      31.666667                 0.0\n",
       "1         882680                3.0      37.108696                 0.0\n",
       "2         884294                0.0       6.000000                 0.0\n",
       "3         884524                0.0      10.333333                 0.0\n",
       "4         885876               15.0     107.494845             64897.0\n",
       "..           ...                ...            ...                 ...\n",
       "225       968520                0.0       5.000000                 0.0\n",
       "226       971100                0.0      13.000000                 0.0\n",
       "227       971102                0.0     274.000000                 0.0\n",
       "228       971354                0.0      42.000000                 0.0\n",
       "229       973286                0.0      88.000000                 0.0\n",
       "\n",
       "[230 rows x 4 columns]"
      ]
     },
     "execution_count": 65,
     "metadata": {},
     "output_type": "execute_result"
    }
   ],
   "source": [
    "operadores_ineficientes = operadores.merge(operadores_ineficientes, on='id_operador')\n",
    "operadores_ineficientes"
   ]
  },
  {
   "cell_type": "markdown",
   "id": "424e363b",
   "metadata": {},
   "source": [
    "- Se identificaron 230 operadores ineficaces, los cuales cumplen alguna de estas condiciones: tiene una gran cantidad de llamadas entrantes perdidas, un tiempo de espera prolongado para las llamadas entrantes o un número reducido de llamadas salientes."
   ]
  },
  {
   "cell_type": "markdown",
   "id": "5d843057",
   "metadata": {},
   "source": [
    "## Probar las hipótesis estadísticas. <a id='hipotesis'></a>"
   ]
  },
  {
   "cell_type": "markdown",
   "id": "f4e26fd8",
   "metadata": {},
   "source": [
    "**Hipótesis 1**\n",
    "\n",
    "- H0: No hay correlación significativa entre la cantidad de llamadas perdidas y el número de llamadas salientes.\n",
    "- H1: Existe una correlación significativa entre la cantidad de llamdas perdidas y el número de llamadas salientes.\n",
    "- alpha = 0.05 nivel crítico de significación estadística\n"
   ]
  },
  {
   "cell_type": "code",
   "execution_count": 66,
   "id": "0d0219e6",
   "metadata": {},
   "outputs": [
    {
     "name": "stdout",
     "output_type": "stream",
     "text": [
      "p-value: 3.9106404044617064e-46\n",
      "Rechazamos la hipótesis nula\n"
     ]
    }
   ],
   "source": [
    "llamadas_perdidas_hip = operadores['llamadas_perdidas']\n",
    "llamadas_salientes_hip = operadores['llamadas_salientes']\n",
    "\n",
    "alpha = 0.05\n",
    "\n",
    "corr_coef, p_value = stats.pearsonr(operadores['llamadas_perdidas'], operadores['llamadas_salientes'])\n",
    "\n",
    "print('p-value:', p_value)\n",
    "\n",
    "if p_value < alpha:\n",
    "    \n",
    "    print('Rechazamos la hipótesis nula')\n",
    "else:\n",
    "    print('No rechazamos la hipótesis nula') "
   ]
  },
  {
   "cell_type": "markdown",
   "id": "87e748fe",
   "metadata": {},
   "source": [
    "Los datos proporcionan evidencia suficiente, dado el nivel de significación que seleccionamos, que hay motivos suficientes para rechazar la hipótesis nula. Por lo tanto, podemos concluir que existe una correlación significativa entre la cantidad de llamadas perdidas y el número de llamadas salientes"
   ]
  },
  {
   "cell_type": "markdown",
   "id": "06dc87d7",
   "metadata": {},
   "source": [
    "**Hipótesis 2**\n",
    "\n",
    "- H0: No hay correlación significativa entre el tiempo de espera y las llamadas salientes.\n",
    "- H1: Existe una correlación significativa entre el tiempo de espera y las llamadas salientes.\n",
    "- alpha = 0.05 nivel crítico de significación estadística"
   ]
  },
  {
   "cell_type": "code",
   "execution_count": 67,
   "id": "7073d534",
   "metadata": {},
   "outputs": [
    {
     "name": "stdout",
     "output_type": "stream",
     "text": [
      "p-value: 0.18777251265494818\n",
      "No rechazamos la hipótesis nula\n"
     ]
    }
   ],
   "source": [
    "tiempo_espera_hip = operadores['tiempo_espera']\n",
    "llamadas_salientes_hip = operadores['llamadas_salientes']\n",
    "\n",
    "alpha = 0.05\n",
    "\n",
    "corr_coef, p_value = stats.pearsonr(tiempo_espera_hip, llamadas_salientes_hip)\n",
    "\n",
    "print('p-value:', p_value)\n",
    "\n",
    "if p_value < alpha:\n",
    "    \n",
    "    print(\"Rechazamos la hipótesis nula\")\n",
    "else:\n",
    "    print(\"No rechazamos la hipótesis nula\") "
   ]
  },
  {
   "cell_type": "markdown",
   "id": "c4d87869",
   "metadata": {},
   "source": [
    "Los datos proporcionan evidencia suficiente, dado el nivel de significación que seleccionamos que no hay motivos suficientes para rechazar la hipótesis nula. Por lo tanto, podemos concluir que existe una correlación significativa entre el tiempo de espera y el número de llamadas salientes."
   ]
  },
  {
   "cell_type": "markdown",
   "id": "92e3d3e7",
   "metadata": {},
   "source": [
    "**Hipótesis 3**\n",
    "\n",
    "- H0: No hay correlación significativa entre el tiempo de espera y las llamadas perdidas.\n",
    "- H1: Existe una correlación significativa entre el tiempo de espera y las llamadas perdidas.\n",
    "- alpha = 0.05 nivel crítico de significación estadística"
   ]
  },
  {
   "cell_type": "code",
   "execution_count": 68,
   "id": "f7ad6f12",
   "metadata": {},
   "outputs": [
    {
     "name": "stdout",
     "output_type": "stream",
     "text": [
      "p-value: 3.284143095992844e-38\n",
      "Rechazamos la hipótesis nula\n"
     ]
    }
   ],
   "source": [
    "llamadas_perdidas_hip = operadores['llamadas_perdidas']\n",
    "tiempo_espera_hip = operadores['tiempo_espera']\n",
    "\n",
    "alpha = 0.05\n",
    "\n",
    "corr_coef, p_value = stats.pearsonr(tiempo_espera_hip, llamadas_perdidas_hip)\n",
    "\n",
    "print('p-value:', p_value)\n",
    "\n",
    "if p_value < alpha:\n",
    "    \n",
    "    print(\"Rechazamos la hipótesis nula\")\n",
    "else:\n",
    "    print(\"No rechazamos la hipótesis nula\") "
   ]
  },
  {
   "cell_type": "markdown",
   "id": "6219e933",
   "metadata": {},
   "source": [
    "Los datos proporcionan evidencia suficiente, dado el nivel de significación que seleccionamos, que hay motivos suficientes para rechazar la hipótesis nula. Por lo tanto, podemos concluir que existe una correlación significativa entre el tiempo de espera y las llamadas perdidas"
   ]
  },
  {
   "cell_type": "markdown",
   "id": "0c2ed5c0",
   "metadata": {},
   "source": [
    "## Conclusión general <a id='general'></a>"
   ]
  },
  {
   "cell_type": "markdown",
   "id": "92d1c4b1",
   "metadata": {},
   "source": [
    "El estudio se basó en el analisis de 2 Datasets que permitieron obtener información y identificar los operadores ineficientes según los parámetros establecidos por el servicio de telefonía virtual CallMeMaybe: gran cantidad de llamadas entrantes perdidas (internas y externas), tiempo de espera prolongado para las llamadas entrantes y número reducido de llamadas salientes.\n",
    "\n",
    "- El datasets calls está conformado por 9 columnas y 53902 filas, se ajustó el tipo de dato de las columnas date y operador_id,\n",
    "se determinó que el conjunto de datos comprende el período desde 2019-08-02 hasta el 2019-11-28, La columna direction está conformada por los valores out(llamadas salientes 31917 registros y in(llamadas entrantes) 21985, la columna internal está conformada por valores booleanos False(es llamada externa) contiene 47621 registros y True(es llamada interna) 6164, la columna is_missed_call está conformada por valores booleanos False(no es llamada perdida) 30334 registros y True(es llamada perdida 23568, se comprobó que no tenía valores duplicados y los valores ausentes de la columna operator_id se reemplazaron por el valor 0 mientras que los valores ausentes de la columna internal no se visualiza ningún patrón así que serán reemplazados por no 'disponible'.\n",
    "\n",
    "- El dataset clients conformado por 3 columnas y 732 filas. Se ajustó el tipo de dato de la columna date_start. No se encontraron valores ausentes. No se encontraron filas duplicadas. Se determinó que el conjunto de datos comprende a los clientes que se registraron en el período desde 2019-08-01 hasta el 2019-10-31. La columna tariff_plan está conformada por tres tipos de planes el A con 76 clientes, el B con 261 clientes y C con 395 clientes.\n",
    "\n",
    "Se realizó el análisis exploratorio de los datos y se obtuvieron los siguientes resultados:\n",
    "\n",
    "- Con la descripción de la duración de la llamadas se determina que la columna tiene 45405 observaciones, la media o promedio es de 1016.430679, la desviación estándar nos dice que los datos se encuentran dispersos ya que el valor es de 4028.152284, el valor mínimo es 0 mientras que el máximo 144395.000000 es bastante más alto que el mínimo, la mediana que indica el valor que está en el centro de los datos cuando están ordenados es de 108.000000.\n",
    "\n",
    "- Con la descripción del tiempo de espera se determina que la columna tiene 45405 observaciones, la media o promedio es de 314.439137, la desviación estándar nos dice que los datos se encuentran dispersos ya que el valor es de 1178.124502, el valor mínimo es 0 mientras que el máximo 46474.000000 es bastante más alto que el mínimo, la mediana que indica el valor que está en el centro de los datos cuando están ordenados es de 61.000000.\n",
    "\n",
    "- La cantidad de llamadas externas representan la mayoría de las llamadas con 39575 que representa el 87.160004 % de los datos, mientras que las llamadas internas solo 5771 el 12.710054 %, luego tenemos un muy pequeño grupo de llamadas de las que no tenemos información a cual de los grupos pertenece que solo representa el 0.129942 %. \n",
    "\n",
    "- La cantidad de llamadas salientes representan la mayoría de las llamadas con 31693 que representa el 69.800683 % , mientras que las llamadas entrantes se registran 13712 el 30.199317 %.\n",
    "\n",
    "Se estudió el comportamiento de los operadores y se obtuvieron los siguientes resultados:\n",
    "\n",
    "- Se estudió la cantidad de llamadas salientes por operador ya que un número reducido de llamdas salientes es signo de ineficiencia y se puede observar que los valores se encuentran dispersos y esto se demuestra con una desviación estándar muy alta 3437.152007, los valores atípicos llegas hasta más de 60000 llamadas por operador.\n",
    "\n",
    "- Se estudió la cantidad de llamadas entrantes perdidas por operador ya que es una señal de ineficiencia y se pueden observar algunos valores atípicos que van desde el 5 hasta 17.5, la mayoría de los datos se encuentran ubicados en 0 llamadas perdidas por operador.\n",
    "\n",
    "- Se estudió el tiempo de espera promedio por operador ya que es una señal de ineficiencia y se puede observar que los valores se encuentran dispersos y esto se demuestra con una desviación estándar alta 98.018506, el valor mínimo es 1 y el máximo 1039.540541, también vemos que la media es de 59.057029 donde se encuentra el punto más alto de la curva.\n",
    "\n",
    "Para identificar los operadores ineficientes se utilizó la función percentile() de la librería numpy y se obtuvieron los siguientes resultados:\n",
    "\n",
    "- Para calcular los operadores ineficientes dependiendo del número de llamadas perdidas se calcularon los percentiles 90,95 y 99 y se determinó que no mas del 5% de los operadores tiene más de 2 llamadas y no más del 1% de los operadores tiene más de 8 llamadas perdidas.\n",
    "\n",
    "- Para calcular los operadores ineficientes dependiendo del tiempo de espera en las llamadas entrantes se calcularon los percentiles 90,95 y 99 y se determinó que No mas del 5% de los operadores tiene un tiempo de espera superior a 152.15662736 y no más del 1% de los operadores tiene un tiempo de espera superior a 452.36714286.\n",
    "\n",
    "- Para calcular los operadores ineficientes dependiendo de la cantidad de llamadas salientes se calcularon los percentiles 10, 25 y 50 y se determinó que menos del 10% de los operadores no realizaron ninguna llamada salientes.\n",
    "\n",
    "Luego de calcular los percentiles podemos identificar como operadores ineficientes a aquellos que tienen más de 8 llamadas entrantes perdidas, el tiempo de espera es mayor a 452.36714286 y no realizaron ninguna llamada salientes y se identificaron 230 operadores ineficaces, los cuales cumplen alguna de estas condiciones: tiene una gran cantidad de llamadas entrantes perdidas, un tiempo de espera prolongado para las llamadas entrantes o un número reducido de llamadas salientes.\n",
    "\n",
    "Se formularon las siguientes hipótesis estadísticas:\n",
    "\n",
    "**Hipótesis 1**\n",
    "\n",
    "   H0: No hay correlación significativa entre la cantidad de llamadas perdidas y el número de llamadas salientes.\n",
    "\n",
    "   H1: Existe una correlación significativa entre la cantidad de llamdas perdidas y el número de llamadas salientes.\n",
    "   \n",
    "   alpha = 0.05 nivel crítico de significación estadística.\n",
    "   \n",
    "Se realizó la prueba del coeficiente de correlación de Pearson con el método scipy.stats.pearsonr(array1, array2) para probar la correlación entre dos conjuntos de datos.\n",
    "\n",
    "Se concluyó lo siguiente:\n",
    "\n",
    "Los datos proporcionan evidencia suficiente, dado el nivel de significación que seleccionamos, que hay motivos suficientes para rechazar la hipótesis nula. Por lo tanto, podemos concluir que existe una correlación significativa entre la cantidad de llamadas perdidas y el número de llamadas salientes.\n",
    "\n",
    "**Hipótesis 2**\n",
    "\n",
    "   H0: No hay correlación significativa entre el tiempo de espera y las llamadas salientes.\n",
    "\n",
    "   H1: Existe una correlación significativa entre el tiempo de espera y las llamadas salientes.\n",
    "   \n",
    "   alpha = 0.05 nivel crítico de significación estadística.\n",
    "\n",
    "Se realizó la prueba del coeficiente de correlación de Pearson con el método scipy.stats.pearsonr(array1, array2) para probar la correlación entre dos conjuntos de datos.\n",
    "\n",
    "Se concluyó lo siguiente:\n",
    "\n",
    "Los datos proporcionan evidencia suficiente, dado el nivel de significación que seleccionamos que no hay motivos suficientes para rechazar la hipótesis nula. Por lo tanto, podemos concluir que existe una correlación significativa entre el tiempo de espera y el número de llamadas salientes.\n",
    "\n",
    "**Hipótesis 3**\n",
    "\n",
    "   H0: No hay correlación significativa entre el tiempo de espera y las llamadas perdidas.\n",
    "\n",
    "   H1: Existe una correlación significativa entre el tiempo de espera y las llamadas perdidas.\n",
    "   \n",
    "   alpha = 0.05 nivel crítico de significación estadística.\n",
    "\n",
    "Se realizó la prueba del coeficiente de correlación de Pearson con el método scipy.stats.pearsonr(array1, array2) para probar la correlación entre dos conjuntos de datos.\n",
    "\n",
    "Se concluyó lo siguiente:\n",
    "\n",
    "Los datos proporcionan evidencia suficiente, dado el nivel de significación que seleccionamos, que hay motivos suficientes para rechazar la hipótesis nula. Por lo tanto, podemos concluir que existe una correlación significativa entre el tiempo de espera y las llamadas perdidas"
   ]
  },
  {
   "cell_type": "markdown",
   "id": "01bfe52a",
   "metadata": {},
   "source": [
    "# Enlaces presentación, dashboard y documentación <a id='enlaces'></a>"
   ]
  },
  {
   "cell_type": "markdown",
   "id": "1759de7e",
   "metadata": {},
   "source": [
    "Enlace de presentación: https://drive.google.com/file/d/13MEH061akeP4hN6lWq8DjydzwchVKaSl/view?usp=drive_link\n",
    "    \n",
    "Enlace listado documentación utilizada: https://drive.google.com/file/d/1iaRK0qkjLAq7QBJtmwieajYFDmGGqlda/view?usp=drive_link\n",
    "\n",
    "Enlace Dashboard: https://public.tableau.com/app/profile/yanimir.salazar/viz/DuracinyCantidaddellamadas/Duracinycantidaddellamdas?publish=yes"
   ]
  }
 ],
 "metadata": {
  "kernelspec": {
   "display_name": "Python 3 (ipykernel)",
   "language": "python",
   "name": "python3"
  },
  "language_info": {
   "codemirror_mode": {
    "name": "ipython",
    "version": 3
   },
   "file_extension": ".py",
   "mimetype": "text/x-python",
   "name": "python",
   "nbconvert_exporter": "python",
   "pygments_lexer": "ipython3",
   "version": "3.9.13"
  },
  "toc": {
   "base_numbering": 1,
   "nav_menu": {},
   "number_sections": true,
   "sideBar": true,
   "skip_h1_title": true,
   "title_cell": "Table of Contents",
   "title_sidebar": "Contents",
   "toc_cell": false,
   "toc_position": {},
   "toc_section_display": true,
   "toc_window_display": false
  }
 },
 "nbformat": 4,
 "nbformat_minor": 5
}
